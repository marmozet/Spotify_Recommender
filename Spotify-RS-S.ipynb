{
 "cells": [
  {
   "attachments": {
    "image.png": {
     "image/png": "[encoded data removed]"
    }
   },
   "cell_type": "markdown",
   "metadata": {
    "pycharm": {
     "name": "#%% md\n"
    }
   },
   "source": [
    "# Recomendador de Musica utilizando Spotify\n",
    "\n",
    "![image.png](attachment:image.png)\n",
    "\n",
    "**Objetivo**\n",
    "El objetivo de esta libreta es realizar un Motor de Recomendación de Canciones utilizando una base de datos pequeña de Spotify y el algoritmo K-Medias."
   ]
  },
  {
   "cell_type": "markdown",
   "metadata": {
    "pycharm": {
     "name": "#%% md\n"
    }
   },
   "source": [
    "## Librerías\n",
    "\n",
    "#### Instalar las librerías\n",
    "\n",
    "Las librerías necesarias para la ejecución de esta libreta se encuentran en el archivo ``requeriments.txt``."
   ]
  },
  {
   "cell_type": "code",
   "execution_count": 1,
   "metadata": {
    "collapsed": true,
    "pycharm": {
     "name": "#%%\n"
    }
   },
   "outputs": [
    {
     "name": "stdout",
     "output_type": "stream",
     "text": [
      "Requirement already satisfied: jupyterlab in c:\\virtual_env\\sonia\\soniam\\lib\\site-packages (from -r requeriments.txt (line 1)) (3.3.2)\n",
      "Requirement already satisfied: numpy in c:\\virtual_env\\sonia\\soniam\\lib\\site-packages (from -r requeriments.txt (line 2)) (1.22.3)\n",
      "Requirement already satisfied: pandas in c:\\virtual_env\\sonia\\soniam\\lib\\site-packages (from -r requeriments.txt (line 3)) (1.4.1)\n",
      "Requirement already satisfied: seaborn in c:\\virtual_env\\sonia\\soniam\\lib\\site-packages (from -r requeriments.txt (line 4)) (0.11.2)\n",
      "Requirement already satisfied: plotly.express in c:\\virtual_env\\sonia\\soniam\\lib\\site-packages (from -r requeriments.txt (line 5)) (0.4.1)\n",
      "Requirement already satisfied: matplotlib in c:\\virtual_env\\sonia\\soniam\\lib\\site-packages (from -r requeriments.txt (line 6)) (3.5.1)\n",
      "Requirement already satisfied: sklearn in c:\\virtual_env\\sonia\\soniam\\lib\\site-packages (from -r requeriments.txt (line 7)) (0.0)\n",
      "Requirement already satisfied: scipy in c:\\virtual_env\\sonia\\soniam\\lib\\site-packages (from -r requeriments.txt (line 8)) (1.8.0)\n",
      "Requirement already satisfied: yellowbrick in c:\\virtual_env\\sonia\\soniam\\lib\\site-packages (from -r requeriments.txt (line 9)) (1.4)\n",
      "Requirement already satisfied: spotipy in c:\\virtual_env\\sonia\\soniam\\lib\\site-packages (from -r requeriments.txt (line 10)) (2.19.0)\n",
      "Requirement already satisfied: pyspark in c:\\virtual_env\\sonia\\soniam\\lib\\site-packages (from -r requeriments.txt (line 11)) (3.2.1)\n",
      "Requirement already satisfied: pyarrow in c:\\virtual_env\\sonia\\soniam\\lib\\site-packages (from -r requeriments.txt (line 12)) (8.0.0)\n",
      "Requirement already satisfied: mlflow in c:\\virtual_env\\sonia\\soniam\\lib\\site-packages (from -r requeriments.txt (line 13)) (1.26.0)\n",
      "Requirement already satisfied: packaging in c:\\virtual_env\\sonia\\soniam\\lib\\site-packages (from jupyterlab->-r requeriments.txt (line 1)) (21.3)\n",
      "Requirement already satisfied: ipython in c:\\virtual_env\\sonia\\soniam\\lib\\site-packages (from jupyterlab->-r requeriments.txt (line 1)) (8.1.1)\n",
      "Requirement already satisfied: jupyter-core in c:\\virtual_env\\sonia\\soniam\\lib\\site-packages (from jupyterlab->-r requeriments.txt (line 1)) (4.9.2)\n",
      "Requirement already satisfied: nbclassic~=0.2 in c:\\virtual_env\\sonia\\soniam\\lib\\site-packages (from jupyterlab->-r requeriments.txt (line 1)) (0.3.7)\n",
      "Requirement already satisfied: jinja2>=2.1 in c:\\virtual_env\\sonia\\soniam\\lib\\site-packages (from jupyterlab->-r requeriments.txt (line 1)) (3.1.1)\n",
      "Requirement already satisfied: tornado>=6.1.0 in c:\\virtual_env\\sonia\\soniam\\lib\\site-packages (from jupyterlab->-r requeriments.txt (line 1)) (6.1)\n",
      "Requirement already satisfied: jupyter-server~=1.4 in c:\\virtual_env\\sonia\\soniam\\lib\\site-packages (from jupyterlab->-r requeriments.txt (line 1)) (1.16.0)\n",
      "Requirement already satisfied: jupyterlab-server~=2.10 in c:\\virtual_env\\sonia\\soniam\\lib\\site-packages (from jupyterlab->-r requeriments.txt (line 1)) (2.12.0)\n",
      "Requirement already satisfied: pytz>=2020.1 in c:\\virtual_env\\sonia\\soniam\\lib\\site-packages (from pandas->-r requeriments.txt (line 3)) (2022.1)\n",
      "Requirement already satisfied: python-dateutil>=2.8.1 in c:\\virtual_env\\sonia\\soniam\\lib\\site-packages (from pandas->-r requeriments.txt (line 3)) (2.8.2)\n",
      "Requirement already satisfied: patsy>=0.5 in c:\\virtual_env\\sonia\\soniam\\lib\\site-packages (from plotly.express->-r requeriments.txt (line 5)) (0.5.2)\n",
      "Requirement already satisfied: statsmodels>=0.9.0 in c:\\virtual_env\\sonia\\soniam\\lib\\site-packages (from plotly.express->-r requeriments.txt (line 5)) (0.13.2)\n",
      "Requirement already satisfied: plotly>=4.1.0 in c:\\virtual_env\\sonia\\soniam\\lib\\site-packages (from plotly.express->-r requeriments.txt (line 5)) (5.6.0)\n",
      "Requirement already satisfied: pillow>=6.2.0 in c:\\virtual_env\\sonia\\soniam\\lib\\site-packages (from matplotlib->-r requeriments.txt (line 6)) (9.0.1)\n",
      "Requirement already satisfied: pyparsing>=2.2.1 in c:\\virtual_env\\sonia\\soniam\\lib\\site-packages (from matplotlib->-r requeriments.txt (line 6)) (3.0.7)\n",
      "Requirement already satisfied: kiwisolver>=1.0.1 in c:\\virtual_env\\sonia\\soniam\\lib\\site-packages (from matplotlib->-r requeriments.txt (line 6)) (1.4.0)\n",
      "Requirement already satisfied: cycler>=0.10 in c:\\virtual_env\\sonia\\soniam\\lib\\site-packages (from matplotlib->-r requeriments.txt (line 6)) (0.11.0)\n",
      "Requirement already satisfied: fonttools>=4.22.0 in c:\\virtual_env\\sonia\\soniam\\lib\\site-packages (from matplotlib->-r requeriments.txt (line 6)) (4.31.2)\n",
      "Requirement already satisfied: scikit-learn in c:\\virtual_env\\sonia\\soniam\\lib\\site-packages (from sklearn->-r requeriments.txt (line 7)) (1.0.2)\n",
      "Requirement already satisfied: requests>=2.25.0 in c:\\virtual_env\\sonia\\soniam\\lib\\site-packages (from spotipy->-r requeriments.txt (line 10)) (2.27.1)\n",
      "Requirement already satisfied: six>=1.15.0 in c:\\virtual_env\\sonia\\soniam\\lib\\site-packages (from spotipy->-r requeriments.txt (line 10)) (1.16.0)\n",
      "Requirement already satisfied: urllib3>=1.26.0 in c:\\virtual_env\\sonia\\soniam\\lib\\site-packages (from spotipy->-r requeriments.txt (line 10)) (1.26.9)\n",
      "Requirement already satisfied: py4j==0.10.9.3 in c:\\virtual_env\\sonia\\soniam\\lib\\site-packages (from pyspark->-r requeriments.txt (line 11)) (0.10.9.3)\n",
      "Requirement already satisfied: sqlparse>=0.3.1 in c:\\virtual_env\\sonia\\soniam\\lib\\site-packages (from mlflow->-r requeriments.txt (line 13)) (0.4.2)\n",
      "Requirement already satisfied: Flask in c:\\virtual_env\\sonia\\soniam\\lib\\site-packages (from mlflow->-r requeriments.txt (line 13)) (2.1.2)\n",
      "Requirement already satisfied: databricks-cli>=0.8.7 in c:\\virtual_env\\sonia\\soniam\\lib\\site-packages (from mlflow->-r requeriments.txt (line 13)) (0.16.6)\n",
      "Requirement already satisfied: protobuf>=3.7.0 in c:\\virtual_env\\sonia\\soniam\\lib\\site-packages (from mlflow->-r requeriments.txt (line 13)) (3.20.1)\n",
      "Requirement already satisfied: entrypoints in c:\\virtual_env\\sonia\\soniam\\lib\\site-packages (from mlflow->-r requeriments.txt (line 13)) (0.4)\n",
      "Requirement already satisfied: click>=7.0 in c:\\virtual_env\\sonia\\soniam\\lib\\site-packages (from mlflow->-r requeriments.txt (line 13)) (8.1.3)\n",
      "Requirement already satisfied: sqlalchemy in c:\\virtual_env\\sonia\\soniam\\lib\\site-packages (from mlflow->-r requeriments.txt (line 13)) (1.4.36)\n",
      "Requirement already satisfied: gitpython>=2.1.0 in c:\\virtual_env\\sonia\\soniam\\lib\\site-packages (from mlflow->-r requeriments.txt (line 13)) (3.1.27)\n",
      "Requirement already satisfied: querystring-parser in c:\\virtual_env\\sonia\\soniam\\lib\\site-packages (from mlflow->-r requeriments.txt (line 13)) (1.2.4)\n",
      "Requirement already satisfied: prometheus-flask-exporter in c:\\virtual_env\\sonia\\soniam\\lib\\site-packages (from mlflow->-r requeriments.txt (line 13)) (0.20.1)\n",
      "Requirement already satisfied: docker>=4.0.0 in c:\\virtual_env\\sonia\\soniam\\lib\\site-packages (from mlflow->-r requeriments.txt (line 13)) (5.0.3)\n",
      "Requirement already satisfied: pyyaml>=5.1 in c:\\virtual_env\\sonia\\soniam\\lib\\site-packages (from mlflow->-r requeriments.txt (line 13)) (6.0)\n",
      "Requirement already satisfied: cloudpickle in c:\\virtual_env\\sonia\\soniam\\lib\\site-packages (from mlflow->-r requeriments.txt (line 13)) (2.0.0)\n",
      "Requirement already satisfied: alembic in c:\\virtual_env\\sonia\\soniam\\lib\\site-packages (from mlflow->-r requeriments.txt (line 13)) (1.7.7)\n",
      "Requirement already satisfied: importlib-metadata!=4.7.0,>=3.7.0 in c:\\virtual_env\\sonia\\soniam\\lib\\site-packages (from mlflow->-r requeriments.txt (line 13)) (4.11.3)\n",
      "Requirement already satisfied: waitress in c:\\virtual_env\\sonia\\soniam\\lib\\site-packages (from mlflow->-r requeriments.txt (line 13)) (2.1.1)\n",
      "Requirement already satisfied: colorama in c:\\virtual_env\\sonia\\soniam\\lib\\site-packages (from click>=7.0->mlflow->-r requeriments.txt (line 13)) (0.4.4)\n",
      "Requirement already satisfied: oauthlib>=3.1.0 in c:\\virtual_env\\sonia\\soniam\\lib\\site-packages (from databricks-cli>=0.8.7->mlflow->-r requeriments.txt (line 13)) (3.2.0)\n",
      "Requirement already satisfied: pyjwt>=1.7.0 in c:\\virtual_env\\sonia\\soniam\\lib\\site-packages (from databricks-cli>=0.8.7->mlflow->-r requeriments.txt (line 13)) (2.4.0)\n",
      "Requirement already satisfied: tabulate>=0.7.7 in c:\\virtual_env\\sonia\\soniam\\lib\\site-packages (from databricks-cli>=0.8.7->mlflow->-r requeriments.txt (line 13)) (0.8.9)\n",
      "Requirement already satisfied: pywin32==227 in c:\\virtual_env\\sonia\\soniam\\lib\\site-packages (from docker>=4.0.0->mlflow->-r requeriments.txt (line 13)) (227)\n",
      "Requirement already satisfied: websocket-client>=0.32.0 in c:\\virtual_env\\sonia\\soniam\\lib\\site-packages (from docker>=4.0.0->mlflow->-r requeriments.txt (line 13)) (1.3.2)\n",
      "Requirement already satisfied: gitdb<5,>=4.0.1 in c:\\virtual_env\\sonia\\soniam\\lib\\site-packages (from gitpython>=2.1.0->mlflow->-r requeriments.txt (line 13)) (4.0.9)\n",
      "Requirement already satisfied: zipp>=0.5 in c:\\virtual_env\\sonia\\soniam\\lib\\site-packages (from importlib-metadata!=4.7.0,>=3.7.0->mlflow->-r requeriments.txt (line 13)) (3.8.0)\n",
      "Requirement already satisfied: MarkupSafe>=2.0 in c:\\virtual_env\\sonia\\soniam\\lib\\site-packages (from jinja2>=2.1->jupyterlab->-r requeriments.txt (line 1)) (2.1.1)\n",
      "Requirement already satisfied: traitlets>=5.1.0 in c:\\virtual_env\\sonia\\soniam\\lib\\site-packages (from jupyter-server~=1.4->jupyterlab->-r requeriments.txt (line 1)) (5.1.1)\n",
      "Requirement already satisfied: pywinpty in c:\\virtual_env\\sonia\\soniam\\lib\\site-packages (from jupyter-server~=1.4->jupyterlab->-r requeriments.txt (line 1)) (2.0.5)\n",
      "Requirement already satisfied: jupyter-client>=6.1.12 in c:\\virtual_env\\sonia\\soniam\\lib\\site-packages (from jupyter-server~=1.4->jupyterlab->-r requeriments.txt (line 1)) (7.1.2)\n",
      "Requirement already satisfied: Send2Trash in c:\\virtual_env\\sonia\\soniam\\lib\\site-packages (from jupyter-server~=1.4->jupyterlab->-r requeriments.txt (line 1)) (1.8.0)\n",
      "Requirement already satisfied: nbformat>=5.2.0 in c:\\virtual_env\\sonia\\soniam\\lib\\site-packages (from jupyter-server~=1.4->jupyterlab->-r requeriments.txt (line 1)) (5.2.0)\n",
      "Requirement already satisfied: pyzmq>=17 in c:\\virtual_env\\sonia\\soniam\\lib\\site-packages (from jupyter-server~=1.4->jupyterlab->-r requeriments.txt (line 1)) (22.3.0)\n",
      "Requirement already satisfied: anyio>=3.1.0 in c:\\virtual_env\\sonia\\soniam\\lib\\site-packages (from jupyter-server~=1.4->jupyterlab->-r requeriments.txt (line 1)) (3.5.0)\n",
      "Requirement already satisfied: prometheus-client in c:\\virtual_env\\sonia\\soniam\\lib\\site-packages (from jupyter-server~=1.4->jupyterlab->-r requeriments.txt (line 1)) (0.13.1)\n",
      "Requirement already satisfied: terminado>=0.8.3 in c:\\virtual_env\\sonia\\soniam\\lib\\site-packages (from jupyter-server~=1.4->jupyterlab->-r requeriments.txt (line 1)) (0.13.3)\n",
      "Requirement already satisfied: argon2-cffi in c:\\virtual_env\\sonia\\soniam\\lib\\site-packages (from jupyter-server~=1.4->jupyterlab->-r requeriments.txt (line 1)) (21.3.0)\n",
      "Requirement already satisfied: nbconvert>=6.4.4 in c:\\virtual_env\\sonia\\soniam\\lib\\site-packages (from jupyter-server~=1.4->jupyterlab->-r requeriments.txt (line 1)) (6.4.5)\n",
      "Requirement already satisfied: json5 in c:\\virtual_env\\sonia\\soniam\\lib\\site-packages (from jupyterlab-server~=2.10->jupyterlab->-r requeriments.txt (line 1)) (0.9.6)\n",
      "Requirement already satisfied: babel in c:\\virtual_env\\sonia\\soniam\\lib\\site-packages (from jupyterlab-server~=2.10->jupyterlab->-r requeriments.txt (line 1)) (2.9.1)\n",
      "Requirement already satisfied: jsonschema>=3.0.1 in c:\\virtual_env\\sonia\\soniam\\lib\\site-packages (from jupyterlab-server~=2.10->jupyterlab->-r requeriments.txt (line 1)) (4.4.0)\n",
      "Requirement already satisfied: notebook-shim>=0.1.0 in c:\\virtual_env\\sonia\\soniam\\lib\\site-packages (from nbclassic~=0.2->jupyterlab->-r requeriments.txt (line 1)) (0.1.0)\n",
      "Requirement already satisfied: notebook<7 in c:\\virtual_env\\sonia\\soniam\\lib\\site-packages (from nbclassic~=0.2->jupyterlab->-r requeriments.txt (line 1)) (6.4.10)\n",
      "Requirement already satisfied: tenacity>=6.2.0 in c:\\virtual_env\\sonia\\soniam\\lib\\site-packages (from plotly>=4.1.0->plotly.express->-r requeriments.txt (line 5)) (8.0.1)\n",
      "Requirement already satisfied: certifi>=2017.4.17 in c:\\virtual_env\\sonia\\soniam\\lib\\site-packages (from requests>=2.25.0->spotipy->-r requeriments.txt (line 10)) (2021.10.8)\n",
      "Requirement already satisfied: charset-normalizer~=2.0.0 in c:\\virtual_env\\sonia\\soniam\\lib\\site-packages (from requests>=2.25.0->spotipy->-r requeriments.txt (line 10)) (2.0.12)\n",
      "Requirement already satisfied: idna<4,>=2.5 in c:\\virtual_env\\sonia\\soniam\\lib\\site-packages (from requests>=2.25.0->spotipy->-r requeriments.txt (line 10)) (3.3)\n",
      "Requirement already satisfied: joblib>=0.11 in c:\\virtual_env\\sonia\\soniam\\lib\\site-packages (from scikit-learn->sklearn->-r requeriments.txt (line 7)) (1.1.0)\n",
      "Requirement already satisfied: threadpoolctl>=2.0.0 in c:\\virtual_env\\sonia\\soniam\\lib\\site-packages (from scikit-learn->sklearn->-r requeriments.txt (line 7)) (3.1.0)\n",
      "Requirement already satisfied: Mako in c:\\virtual_env\\sonia\\soniam\\lib\\site-packages (from alembic->mlflow->-r requeriments.txt (line 13)) (1.2.0)\n",
      "Requirement already satisfied: greenlet!=0.4.17 in c:\\virtual_env\\sonia\\soniam\\lib\\site-packages (from sqlalchemy->mlflow->-r requeriments.txt (line 13)) (1.1.2)\n",
      "Requirement already satisfied: Werkzeug>=2.0 in c:\\virtual_env\\sonia\\soniam\\lib\\site-packages (from Flask->mlflow->-r requeriments.txt (line 13)) (2.1.2)\n",
      "Requirement already satisfied: itsdangerous>=2.0 in c:\\virtual_env\\sonia\\soniam\\lib\\site-packages (from Flask->mlflow->-r requeriments.txt (line 13)) (2.1.2)\n",
      "Requirement already satisfied: stack-data in c:\\virtual_env\\sonia\\soniam\\lib\\site-packages (from ipython->jupyterlab->-r requeriments.txt (line 1)) (0.2.0)\n",
      "Requirement already satisfied: setuptools>=18.5 in c:\\virtual_env\\sonia\\soniam\\lib\\site-packages (from ipython->jupyterlab->-r requeriments.txt (line 1)) (62.1.0)\n",
      "Requirement already satisfied: backcall in c:\\virtual_env\\sonia\\soniam\\lib\\site-packages (from ipython->jupyterlab->-r requeriments.txt (line 1)) (0.2.0)\n",
      "Requirement already satisfied: pygments>=2.4.0 in c:\\virtual_env\\sonia\\soniam\\lib\\site-packages (from ipython->jupyterlab->-r requeriments.txt (line 1)) (2.11.2)\n",
      "Requirement already satisfied: decorator in c:\\virtual_env\\sonia\\soniam\\lib\\site-packages (from ipython->jupyterlab->-r requeriments.txt (line 1)) (5.1.1)\n",
      "Requirement already satisfied: matplotlib-inline in c:\\virtual_env\\sonia\\soniam\\lib\\site-packages (from ipython->jupyterlab->-r requeriments.txt (line 1)) (0.1.3)\n",
      "Requirement already satisfied: prompt-toolkit!=3.0.0,!=3.0.1,<3.1.0,>=2.0.0 in c:\\virtual_env\\sonia\\soniam\\lib\\site-packages (from ipython->jupyterlab->-r requeriments.txt (line 1)) (3.0.28)\n",
      "Requirement already satisfied: jedi>=0.16 in c:\\virtual_env\\sonia\\soniam\\lib\\site-packages (from ipython->jupyterlab->-r requeriments.txt (line 1)) (0.18.1)\n",
      "Requirement already satisfied: pickleshare in c:\\virtual_env\\sonia\\soniam\\lib\\site-packages (from ipython->jupyterlab->-r requeriments.txt (line 1)) (0.7.5)\n",
      "Requirement already satisfied: sniffio>=1.1 in c:\\virtual_env\\sonia\\soniam\\lib\\site-packages (from anyio>=3.1.0->jupyter-server~=1.4->jupyterlab->-r requeriments.txt (line 1)) (1.2.0)\n",
      "Requirement already satisfied: smmap<6,>=3.0.1 in c:\\virtual_env\\sonia\\soniam\\lib\\site-packages (from gitdb<5,>=4.0.1->gitpython>=2.1.0->mlflow->-r requeriments.txt (line 13)) (5.0.0)\n",
      "Requirement already satisfied: parso<0.9.0,>=0.8.0 in c:\\virtual_env\\sonia\\soniam\\lib\\site-packages (from jedi>=0.16->ipython->jupyterlab->-r requeriments.txt (line 1)) (0.8.3)\n",
      "Requirement already satisfied: attrs>=17.4.0 in c:\\virtual_env\\sonia\\soniam\\lib\\site-packages (from jsonschema>=3.0.1->jupyterlab-server~=2.10->jupyterlab->-r requeriments.txt (line 1)) (21.4.0)\n",
      "Requirement already satisfied: pyrsistent!=0.17.0,!=0.17.1,!=0.17.2,>=0.14.0 in c:\\virtual_env\\sonia\\soniam\\lib\\site-packages (from jsonschema>=3.0.1->jupyterlab-server~=2.10->jupyterlab->-r requeriments.txt (line 1)) (0.18.1)\n",
      "Requirement already satisfied: nest-asyncio>=1.5 in c:\\virtual_env\\sonia\\soniam\\lib\\site-packages (from jupyter-client>=6.1.12->jupyter-server~=1.4->jupyterlab->-r requeriments.txt (line 1)) (1.5.4)\n",
      "Requirement already satisfied: jupyterlab-pygments in c:\\virtual_env\\sonia\\soniam\\lib\\site-packages (from nbconvert>=6.4.4->jupyter-server~=1.4->jupyterlab->-r requeriments.txt (line 1)) (0.1.2)\n",
      "Requirement already satisfied: pandocfilters>=1.4.1 in c:\\virtual_env\\sonia\\soniam\\lib\\site-packages (from nbconvert>=6.4.4->jupyter-server~=1.4->jupyterlab->-r requeriments.txt (line 1)) (1.5.0)\n",
      "Requirement already satisfied: bleach in c:\\virtual_env\\sonia\\soniam\\lib\\site-packages (from nbconvert>=6.4.4->jupyter-server~=1.4->jupyterlab->-r requeriments.txt (line 1)) (4.1.0)\n",
      "Requirement already satisfied: testpath in c:\\virtual_env\\sonia\\soniam\\lib\\site-packages (from nbconvert>=6.4.4->jupyter-server~=1.4->jupyterlab->-r requeriments.txt (line 1)) (0.6.0)\n",
      "Requirement already satisfied: nbclient<0.6.0,>=0.5.0 in c:\\virtual_env\\sonia\\soniam\\lib\\site-packages (from nbconvert>=6.4.4->jupyter-server~=1.4->jupyterlab->-r requeriments.txt (line 1)) (0.5.13)\n",
      "Requirement already satisfied: mistune<2,>=0.8.1 in c:\\virtual_env\\sonia\\soniam\\lib\\site-packages (from nbconvert>=6.4.4->jupyter-server~=1.4->jupyterlab->-r requeriments.txt (line 1)) (0.8.4)\n",
      "Requirement already satisfied: defusedxml in c:\\virtual_env\\sonia\\soniam\\lib\\site-packages (from nbconvert>=6.4.4->jupyter-server~=1.4->jupyterlab->-r requeriments.txt (line 1)) (0.7.1)\n",
      "Requirement already satisfied: beautifulsoup4 in c:\\virtual_env\\sonia\\soniam\\lib\\site-packages (from nbconvert>=6.4.4->jupyter-server~=1.4->jupyterlab->-r requeriments.txt (line 1)) (4.10.0)\n",
      "Requirement already satisfied: ipython-genutils in c:\\virtual_env\\sonia\\soniam\\lib\\site-packages (from notebook<7->nbclassic~=0.2->jupyterlab->-r requeriments.txt (line 1)) (0.2.0)\n",
      "Requirement already satisfied: ipykernel in c:\\virtual_env\\sonia\\soniam\\lib\\site-packages (from notebook<7->nbclassic~=0.2->jupyterlab->-r requeriments.txt (line 1)) (6.9.2)\n",
      "Requirement already satisfied: wcwidth in c:\\virtual_env\\sonia\\soniam\\lib\\site-packages (from prompt-toolkit!=3.0.0,!=3.0.1,<3.1.0,>=2.0.0->ipython->jupyterlab->-r requeriments.txt (line 1)) (0.2.5)\n",
      "Requirement already satisfied: argon2-cffi-bindings in c:\\virtual_env\\sonia\\soniam\\lib\\site-packages (from argon2-cffi->jupyter-server~=1.4->jupyterlab->-r requeriments.txt (line 1)) (21.2.0)\n"
     ]
    },
    {
     "name": "stderr",
     "output_type": "stream",
     "text": [
      "WARNING: You are using pip version 22.0.4; however, version 22.1 is available.\n",
      "You should consider upgrading via the 'C:\\virtual_env\\Sonia\\SoniaM\\Scripts\\python.exe -m pip install --upgrade pip' command.\n"
     ]
    },
    {
     "name": "stdout",
     "output_type": "stream",
     "text": [
      "Requirement already satisfied: asttokens in c:\\virtual_env\\sonia\\soniam\\lib\\site-packages (from stack-data->ipython->jupyterlab->-r requeriments.txt (line 1)) (2.0.5)\n",
      "Requirement already satisfied: executing in c:\\virtual_env\\sonia\\soniam\\lib\\site-packages (from stack-data->ipython->jupyterlab->-r requeriments.txt (line 1)) (0.8.3)\n",
      "Requirement already satisfied: pure-eval in c:\\virtual_env\\sonia\\soniam\\lib\\site-packages (from stack-data->ipython->jupyterlab->-r requeriments.txt (line 1)) (0.2.2)\n",
      "Requirement already satisfied: cffi>=1.0.1 in c:\\virtual_env\\sonia\\soniam\\lib\\site-packages (from argon2-cffi-bindings->argon2-cffi->jupyter-server~=1.4->jupyterlab->-r requeriments.txt (line 1)) (1.15.0)\n",
      "Requirement already satisfied: soupsieve>1.2 in c:\\virtual_env\\sonia\\soniam\\lib\\site-packages (from beautifulsoup4->nbconvert>=6.4.4->jupyter-server~=1.4->jupyterlab->-r requeriments.txt (line 1)) (2.3.1)\n",
      "Requirement already satisfied: webencodings in c:\\virtual_env\\sonia\\soniam\\lib\\site-packages (from bleach->nbconvert>=6.4.4->jupyter-server~=1.4->jupyterlab->-r requeriments.txt (line 1)) (0.5.1)\n",
      "Requirement already satisfied: psutil in c:\\virtual_env\\sonia\\soniam\\lib\\site-packages (from ipykernel->notebook<7->nbclassic~=0.2->jupyterlab->-r requeriments.txt (line 1)) (5.9.0)\n",
      "Requirement already satisfied: debugpy<2.0,>=1.0.0 in c:\\virtual_env\\sonia\\soniam\\lib\\site-packages (from ipykernel->notebook<7->nbclassic~=0.2->jupyterlab->-r requeriments.txt (line 1)) (1.5.1)\n",
      "Requirement already satisfied: pycparser in c:\\virtual_env\\sonia\\soniam\\lib\\site-packages (from cffi>=1.0.1->argon2-cffi-bindings->argon2-cffi->jupyter-server~=1.4->jupyterlab->-r requeriments.txt (line 1)) (2.21)\n"
     ]
    }
   ],
   "source": [
    "!pip install -r requirements.txt"
   ]
  },
  {
   "cell_type": "markdown",
   "metadata": {
    "pycharm": {
     "name": "#%% md\n"
    }
   },
   "source": [
    "#### Importar las librerías\n",
    "\n",
    "1. Librerías para la manipulación de datos\n",
    "2. Spotify\n",
    "3. Configuración del sistema\n",
    "4. Inteligencia Artificial\n",
    "5. Big Data (Spark)"
   ]
  },
  {
   "cell_type": "code",
   "execution_count": 2,
   "metadata": {
    "execution": {
     "iopub.execute_input": "2021-12-17T05:44:20.715330Z",
     "iopub.status.busy": "2021-12-17T05:44:20.714397Z",
     "iopub.status.idle": "2021-12-17T05:44:21.808185Z",
     "shell.execute_reply": "2021-12-17T05:44:21.807394Z",
     "shell.execute_reply.started": "2021-12-17T05:44:20.715276Z"
    },
    "pycharm": {
     "name": "#%%\n"
    }
   },
   "outputs": [],
   "source": [
    "# Manipulación de datos ═══════════════════════════════════════════\n",
    "import numpy as np\n",
    "import pandas as pd\n",
    "from collections import defaultdict\n",
    "\n",
    "# Spotify ═════════════════════════════════════════════════════════\n",
    "import spotipy\n",
    "from spotipy.oauth2 import SpotifyClientCredentials\n",
    "\n",
    "# Configuración del sistema ═══════════════════════════════════════\n",
    "import os\n",
    "import warnings\n",
    "\n",
    "warnings.filterwarnings(\"ignore\")\n",
    "os.environ[\"PYARROW_IGNORE_TIMEZONE\"] = \"1\"\n",
    "\n",
    "# Inteligencia Artificial ═════════════════════════════════════════\n",
    "from sklearn.pipeline import Pipeline\n",
    "from scipy.spatial.distance import cdist\n",
    "\n",
    "# Big Data (Spark) ════════════════════════════════════════════════\n",
    "from pyspark.sql import SparkSession\n",
    "from pyspark.sql.functions import *\n",
    "import pyspark.pandas as ps # o pd\n",
    "from pyspark.ml.clustering import KMeans\n",
    "from pyspark.ml.feature import VectorAssembler\n",
    "from pyspark.ml.feature import StandardScaler\n",
    "from pyspark.ml.evaluation import ClusteringEvaluator\n",
    "\n",
    "%matplotlib inline"
   ]
  },
  {
   "cell_type": "markdown",
   "metadata": {
    "pycharm": {
     "name": "#%% md\n"
    }
   },
   "source": [
    "## Datos\n",
    "\n",
    "#### Inicializar Spark\n",
    "Se crea una nueva sesión de Spark llamada *Spotify Recommender*."
   ]
  },
  {
   "cell_type": "code",
   "execution_count": 3,
   "metadata": {
    "execution": {
     "iopub.execute_input": "2021-12-17T05:44:21.810083Z",
     "iopub.status.busy": "2021-12-17T05:44:21.809689Z",
     "iopub.status.idle": "2021-12-17T05:44:22.522129Z",
     "shell.execute_reply": "2021-12-17T05:44:22.521334Z",
     "shell.execute_reply.started": "2021-12-17T05:44:21.810053Z"
    },
    "pycharm": {
     "name": "#%%\n"
    }
   },
   "outputs": [],
   "source": [
    "spark = SparkSession.builder.appName('Spotify Recommender').getOrCreate()"
   ]
  },
  {
   "cell_type": "markdown",
   "metadata": {
    "pycharm": {
     "name": "#%% md\n"
    }
   },
   "source": [
    "#### Cargar los datos\n",
    "\n",
    "Se cargan los datos desde un archivo `csv`."
   ]
  },
  {
   "cell_type": "code",
   "execution_count": 4,
   "metadata": {
    "pycharm": {
     "name": "#%%\n"
    }
   },
   "outputs": [],
   "source": [
    "data = spark.read.csv('data/data.csv', sep=',', inferSchema=True, header=True)"
   ]
  },
  {
   "cell_type": "markdown",
   "metadata": {
    "pycharm": {
     "name": "#%% md\n"
    }
   },
   "source": [
    "#### Información de los datos\n",
    "\n",
    "**Estructura**"
   ]
  },
  {
   "cell_type": "code",
   "execution_count": 5,
   "metadata": {
    "pycharm": {
     "name": "#%%\n"
    }
   },
   "outputs": [
    {
     "name": "stdout",
     "output_type": "stream",
     "text": [
      "root\n",
      " |-- valence: double (nullable = true)\n",
      " |-- year: integer (nullable = true)\n",
      " |-- acousticness: double (nullable = true)\n",
      " |-- artists: string (nullable = true)\n",
      " |-- danceability: string (nullable = true)\n",
      " |-- duration_ms: string (nullable = true)\n",
      " |-- energy: string (nullable = true)\n",
      " |-- explicit: string (nullable = true)\n",
      " |-- id: string (nullable = true)\n",
      " |-- instrumentalness: string (nullable = true)\n",
      " |-- key: string (nullable = true)\n",
      " |-- liveness: string (nullable = true)\n",
      " |-- loudness: string (nullable = true)\n",
      " |-- mode: string (nullable = true)\n",
      " |-- name: string (nullable = true)\n",
      " |-- popularity: string (nullable = true)\n",
      " |-- release_date: string (nullable = true)\n",
      " |-- speechiness: string (nullable = true)\n",
      " |-- tempo: string (nullable = true)\n",
      "\n",
      "None\n"
     ]
    }
   ],
   "source": [
    "print(data.printSchema())"
   ]
  },
  {
   "cell_type": "markdown",
   "metadata": {
    "pycharm": {
     "name": "#%% md\n"
    }
   },
   "source": [
    "**Información**"
   ]
  },
  {
   "cell_type": "code",
   "execution_count": 6,
   "metadata": {
    "pycharm": {
     "name": "#%%\n"
    }
   },
   "outputs": [
    {
     "name": "stdout",
     "output_type": "stream",
     "text": [
      "+------------------+----+------------+--------------------+------------------+-----------+-------------------+--------+--------------------+----------------+---+--------+-------------------+----+--------------------+----------+------------+-----------+-----------------+\n",
      "|           valence|year|acousticness|             artists|      danceability|duration_ms|             energy|explicit|                  id|instrumentalness|key|liveness|           loudness|mode|                name|popularity|release_date|speechiness|            tempo|\n",
      "+------------------+----+------------+--------------------+------------------+-----------+-------------------+--------+--------------------+----------------+---+--------+-------------------+----+--------------------+----------+------------+-----------+-----------------+\n",
      "|            0.0594|1921|       0.982|['Sergei Rachmani...|             0.279|     831667|              0.211|       0|4BJqT0PrAfrxzMOxy...|           0.878| 10|   0.665|            -20.096|   1|Piano Concerto No...|         4|        1921|     0.0366|           80.954|\n",
      "|             0.963|1921|       0.732|      ['Dennis Day']|0.8190000000000001|     180533|              0.341|       0|7xPhfUan2yNtyFG0c...|             0.0|  7|    0.16|            -12.441|   1|Clancy Lowered th...|         5|        1921|      0.415|60.93600000000001|\n",
      "|            0.0394|1921|       0.961|['KHP Kridhamarda...|             0.328|     500062|              0.166|       0|1o6I8BglA6ylDMrIE...|           0.913|  3|   0.101|             -14.85|   1|           Gati Bali|         5|        1921|     0.0339|          110.339|\n",
      "|             0.165|1921|       0.967|    ['Frank Parker']|             0.275|     210000|              0.309|       0|3ftBPsC5vPBKxYSee...|        2.77e-05|  5|   0.381|             -9.316|   1|           Danny Boy|         3|        1921|     0.0354|          100.109|\n",
      "|             0.253|1921|       0.957|      ['Phil Regan']|             0.418|     166693|              0.193|       0|4d6HGyGT8e121BsdK...|        1.68e-06|  3|   0.229|            -10.096|   1|When Irish Eyes A...|         2|        1921|      0.038|          101.665|\n",
      "|             0.196|1921|       0.579|['KHP Kridhamarda...|0.6970000000000001|     395076|0.34600000000000003|       0|4pyw9DVHGStUre4J6...|           0.168|  2|    0.13|-12.505999999999998|   1|        Gati Mardika|         6|        1921|       0.07|          119.824|\n",
      "|             0.406|1921|       0.996|  ['John McCormack']|             0.518|     159507|              0.203|       0|5uNZnElqOS3W4fRmR...|             0.0|  0|   0.115|            -10.589|   1|The Wearing of th...|         4|        1921|     0.0615|           66.221|\n",
      "|            0.0731|1921|       0.993|['Sergei Rachmani...|             0.389|     218773|0.08800000000000001|       0|02GDntOXexBFUvSga...|           0.527|  1|   0.363|            -21.091|   0|Morceaux de fanta...|         2|        1921|     0.0456|           92.867|\n",
      "|             0.721|1921|       0.996| ['Ignacio Corsini']|             0.485|     161520|               0.13|       0|05xDjWH9ub67nJJk8...|           0.151|  5|   0.104| -21.50800000000001|   0|La Mañanita - Rem...|         0|  1921-03-20|     0.0483|           64.678|\n",
      "|0.7709999999999999|1921|       0.982|         ['Fortugé']|             0.684|     196560|              0.257|       0|08zfJvRLp7pjAb94M...|             0.0|  8|   0.504|            -16.415|   1|   Il Etait Syndiqué|         0|        1921|      0.399|          109.378|\n",
      "+------------------+----+------------+--------------------+------------------+-----------+-------------------+--------+--------------------+----------------+---+--------+-------------------+----+--------------------+----------+------------+-----------+-----------------+\n",
      "only showing top 10 rows\n",
      "\n",
      "None\n"
     ]
    }
   ],
   "source": [
    "print(data.show(10))"
   ]
  },
  {
   "cell_type": "code",
   "execution_count": 7,
   "metadata": {
    "pycharm": {
     "name": "#%%\n"
    }
   },
   "outputs": [
    {
     "name": "stdout",
     "output_type": "stream",
     "text": [
      "+-----------+--------+-------------------+----------+------------------+----------------+--------+-------------------+\n",
      "|duration_ms|explicit|             energy|popularity|      danceability|instrumentalness|liveness|           loudness|\n",
      "+-----------+--------+-------------------+----------+------------------+----------------+--------+-------------------+\n",
      "|     831667|       0|              0.211|         4|             0.279|           0.878|   0.665|            -20.096|\n",
      "|     180533|       0|              0.341|         5|0.8190000000000001|             0.0|    0.16|            -12.441|\n",
      "|     500062|       0|              0.166|         5|             0.328|           0.913|   0.101|             -14.85|\n",
      "|     210000|       0|              0.309|         3|             0.275|        2.77e-05|   0.381|             -9.316|\n",
      "|     166693|       0|              0.193|         2|             0.418|        1.68e-06|   0.229|            -10.096|\n",
      "|     395076|       0|0.34600000000000003|         6|0.6970000000000001|           0.168|    0.13|-12.505999999999998|\n",
      "|     159507|       0|              0.203|         4|             0.518|             0.0|   0.115|            -10.589|\n",
      "|     218773|       0|0.08800000000000001|         2|             0.389|           0.527|   0.363|            -21.091|\n",
      "|     161520|       0|               0.13|         0|             0.485|           0.151|   0.104| -21.50800000000001|\n",
      "|     196560|       0|              0.257|         0|             0.684|             0.0|   0.504|            -16.415|\n",
      "+-----------+--------+-------------------+----------+------------------+----------------+--------+-------------------+\n",
      "only showing top 10 rows\n",
      "\n"
     ]
    }
   ],
   "source": [
    "data.select('duration_ms','explicit','energy','popularity','danceability','instrumentalness','liveness','loudness').show(10)"
   ]
  },
  {
   "cell_type": "markdown",
   "metadata": {
    "pycharm": {
     "name": "#%% md\n"
    }
   },
   "source": [
    "**Datos faltantes**"
   ]
  },
  {
   "cell_type": "code",
   "execution_count": 8,
   "metadata": {
    "pycharm": {
     "name": "#%%\n"
    }
   },
   "outputs": [
    {
     "name": "stdout",
     "output_type": "stream",
     "text": [
      "+-------+----+------------+-------+------------+-----------+------+--------+---+----------------+---+--------+--------+----+----+----------+------------+-----------+-----+\n",
      "|valence|year|acousticness|artists|danceability|duration_ms|energy|explicit| id|instrumentalness|key|liveness|loudness|mode|name|popularity|release_date|speechiness|tempo|\n",
      "+-------+----+------------+-------+------------+-----------+------+--------+---+----------------+---+--------+--------+----+----+----------+------------+-----------+-----+\n",
      "|      0|   0|           0|      0|           0|          0|     0|       0|  0|               0|  0|       0|       0|   0|   0|         0|           0|          0|    0|\n",
      "+-------+----+------------+-------+------------+-----------+------+--------+---+----------------+---+--------+--------+----+----+----------+------------+-----------+-----+\n",
      "\n"
     ]
    }
   ],
   "source": [
    "# Conversión de tipos.\n",
    "data = data.withColumn(\"duration_ms\"     ,col(\"duration_ms\")     .cast(\"double\"))\n",
    "data = data.withColumn(\"explicit\"        ,col(\"explicit\")        .cast(\"double\"))\n",
    "data = data.withColumn(\"energy\"          ,col(\"energy\")          .cast(\"double\"))\n",
    "data = data.withColumn(\"popularity\"      ,col(\"popularity\")      .cast(\"double\"))\n",
    "data = data.withColumn(\"danceability\"    ,col(\"danceability\")    .cast(\"double\"))\n",
    "data = data.withColumn(\"instrumentalness\",col(\"instrumentalness\").cast(\"double\"))\n",
    "data = data.withColumn(\"liveness\"        ,col(\"liveness\")        .cast(\"double\"))\n",
    "data = data.withColumn(\"loudness\"        ,col(\"loudness\")        .cast(\"double\"))\n",
    "\n",
    "# Conteo de datos faltantes o datos basura.\n",
    "data = data.na.fill(value=0)\n",
    "data.select([count(when(isnan(c) | col(c).isNull(), c)).alias(c) for c in data.columns]).show()"
   ]
  },
  {
   "cell_type": "markdown",
   "metadata": {
    "pycharm": {
     "name": "#%% md\n"
    }
   },
   "source": [
    "## Implementación del algoritmo K-Medias (*K-Means*)\n",
    "\n",
    "![K-Means](Imagenes/kmeans.png)\n",
    "\n",
    "El objetivo principal del método es agrupar las observaciones en grupos lo más semejante entre sí y que las pertenecientes a grupos distintos sean lo más desemejante entre sí. Las medias como la euclídea son utilizadas para medir la semejanza y desemejanza.\n",
    "\n",
    "Entre sus características podemos encontrar:\n",
    "- El método K-Medias divide un conjunto de $n$ observaciones en $k$ grupos.\n",
    "- Cada grupo es representado por el promedio de los puntos que lo componen.\n",
    "- El representante de cada grupo se denomina centroide.\n",
    "- La cantidad de grupos $k$, es parámetro que se debe establecer."
   ]
  },
  {
   "cell_type": "markdown",
   "metadata": {
    "pycharm": {
     "name": "#%% md\n"
    }
   },
   "source": [
    "#### Implementación"
   ]
  },
  {
   "cell_type": "code",
   "execution_count": 9,
   "metadata": {
    "pycharm": {
     "name": "#%%\n"
    },
    "scrolled": true
   },
   "outputs": [],
   "source": [
    "featuresUsed = ['duration_ms','explicit','energy','popularity','danceability','instrumentalness','liveness','loudness','year']\n",
    "assembler = VectorAssembler(inputCols=featuresUsed,outputCol='features_unscaled')\n",
    "assembled = assembler.transform(data)"
   ]
  },
  {
   "cell_type": "code",
   "execution_count": 10,
   "metadata": {
    "pycharm": {
     "name": "#%%\n"
    },
    "scrolled": true
   },
   "outputs": [],
   "source": [
    "silhouette_scores=[]\n",
    "evaluator = ClusteringEvaluator(featuresCol='features_unscaled', metricName='silhouette', distanceMeasure='squaredEuclidean')\n",
    "\n",
    "for K in range(2,12):\n",
    "    KMeans_=KMeans(featuresCol='features_unscaled', k=K)\n",
    "    KMeans_fit=KMeans_.fit(assembled)\n",
    "    output_df=KMeans_fit.transform(assembled)\n",
    "    evaluation_score=evaluator.evaluate(output_df)\n",
    "    silhouette_scores.append(evaluation_score)"
   ]
  },
  {
   "cell_type": "markdown",
   "metadata": {
    "pycharm": {
     "name": "#%% md\n"
    }
   },
   "source": [
    "#### Número de clusters."
   ]
  },
  {
   "cell_type": "code",
   "execution_count": 11,
   "metadata": {
    "pycharm": {
     "name": "#%%\n"
    }
   },
   "outputs": [
    {
     "data": {
      "text/plain": [
       "Text(0, 0.5, 'Silhouette Score')"
      ]
     },
     "execution_count": 11,
     "metadata": {},
     "output_type": "execute_result"
    },
    {
     "data": {
      "image/png": "[encoded data removed]",
      "text/plain": [
       "<Figure size 720x576 with 1 Axes>"
      ]
     },
     "metadata": {
      "needs_background": "light"
     },
     "output_type": "display_data"
    }
   ],
   "source": [
    "import matplotlib.pyplot as plt\n",
    "\n",
    "fig, ax = plt.subplots(1,1, figsize =(10,8))\n",
    "ax.plot(range(2,12),silhouette_scores)\n",
    "ax.set_xlabel('Number of Clusters')\n",
    "ax.set_ylabel('Silhouette Score')"
   ]
  },
  {
   "cell_type": "code",
   "execution_count": 12,
   "metadata": {
    "pycharm": {
     "name": "#%%\n"
    },
    "scrolled": false
   },
   "outputs": [
    {
     "name": "stdout",
     "output_type": "stream",
     "text": [
      "+--------------------+----+----------+\n",
      "|                name|year|prediction|\n",
      "+--------------------+----+----------+\n",
      "|Piano Concerto No...|1921|         6|\n",
      "|Clancy Lowered th...|1921|         9|\n",
      "|           Gati Bali|1921|         1|\n",
      "|           Danny Boy|1921|         0|\n",
      "|When Irish Eyes A...|1921|         9|\n",
      "|        Gati Mardika|1921|        10|\n",
      "|The Wearing of th...|1921|         9|\n",
      "|Morceaux de fanta...|1921|         0|\n",
      "|La Mañanita - Rem...|1921|         9|\n",
      "|   Il Etait Syndiqué|1921|         9|\n",
      "+--------------------+----+----------+\n",
      "only showing top 10 rows\n",
      "\n"
     ]
    }
   ],
   "source": [
    "output_df.select('name','year','prediction').show(10)"
   ]
  },
  {
   "cell_type": "code",
   "execution_count": 13,
   "metadata": {
    "pycharm": {
     "name": "#%%\n"
    }
   },
   "outputs": [],
   "source": [
    "psdf = output_df.toPandas()"
   ]
  },
  {
   "cell_type": "code",
   "execution_count": 14,
   "metadata": {
    "pycharm": {
     "name": "#%%\n"
    }
   },
   "outputs": [
    {
     "name": "stdout",
     "output_type": "stream",
     "text": [
      "<class 'pandas.core.frame.DataFrame'>\n",
      "RangeIndex: 170653 entries, 0 to 170652\n",
      "Data columns (total 21 columns):\n",
      " #   Column             Non-Null Count   Dtype  \n",
      "---  ------             --------------   -----  \n",
      " 0   valence            170653 non-null  float64\n",
      " 1   year               170653 non-null  int32  \n",
      " 2   acousticness       170653 non-null  float64\n",
      " 3   artists            170653 non-null  object \n",
      " 4   danceability       170653 non-null  float64\n",
      " 5   duration_ms        170653 non-null  float64\n",
      " 6   energy             170653 non-null  float64\n",
      " 7   explicit           170653 non-null  float64\n",
      " 8   id                 170653 non-null  object \n",
      " 9   instrumentalness   170653 non-null  float64\n",
      " 10  key                170653 non-null  object \n",
      " 11  liveness           170653 non-null  float64\n",
      " 12  loudness           170653 non-null  float64\n",
      " 13  mode               170653 non-null  object \n",
      " 14  name               170653 non-null  object \n",
      " 15  popularity         170653 non-null  float64\n",
      " 16  release_date       170653 non-null  object \n",
      " 17  speechiness        170653 non-null  object \n",
      " 18  tempo              170653 non-null  object \n",
      " 19  features_unscaled  170653 non-null  object \n",
      " 20  prediction         170653 non-null  int32  \n",
      "dtypes: float64(10), int32(2), object(9)\n",
      "memory usage: 26.0+ MB\n"
     ]
    }
   ],
   "source": [
    "psdf.info()"
   ]
  },
  {
   "cell_type": "markdown",
   "metadata": {
    "pycharm": {
     "name": "#%% md\n"
    }
   },
   "source": [
    "## Motor de recomendación\n",
    "\n",
    "Los análisis y las visualizaciones siguieren que los géneros similares tienden ubicarse cerca al igual que las canciones por tipos; esto tiene sentido, los géneros similares suelen tener un ritmo y tempo similar.\n",
    "\n",
    "Teniendo en cuenta lo anterior es posible construir un sistema de recomendación tomando los puntos de los datos de las canciones que el usuario está escuchando y recomendar canciones que se encuentren cercanas es decir, que correspondan a los datos cercanos. [Spotipy](https://spotipy.readthedocs.io/en/2.16.1/) es un cliente de Python para la API web de Spotify que facilita a los desarrolladores la obtención de datos y la consulta de canciones en el catálogo de Spotify (`pip install spotipy`). También es necesario crear una aplicación en la [página del desarrollador de Spotify] (https://developer.spotify.com/) y guardar su ID de cliente y clave secreta para acceder a la API."
   ]
  },
  {
   "cell_type": "markdown",
   "metadata": {
    "pycharm": {
     "name": "#%% md\n"
    }
   },
   "source": [
    "#### Definición del pipeline"
   ]
  },
  {
   "cell_type": "code",
   "execution_count": 15,
   "metadata": {
    "pycharm": {
     "name": "#%%\n"
    }
   },
   "outputs": [],
   "source": [
    "from sklearn.pipeline import Pipeline\n",
    "from sklearn.cluster import KMeans\n",
    "from sklearn.preprocessing import StandardScaler\n",
    "song_cluster_pipeline = Pipeline([('scaler', StandardScaler()), \n",
    "                                  ('kmeans', KMeans(n_clusters=20, \n",
    "                                   verbose=False))\n",
    "                                 ], verbose=False)"
   ]
  },
  {
   "cell_type": "markdown",
   "metadata": {
    "pycharm": {
     "name": "#%% md\n"
    }
   },
   "source": [
    "#### Funciones auxiliares para la búsqueda y manipulación de los datos de las canciones"
   ]
  },
  {
   "cell_type": "code",
   "execution_count": 16,
   "metadata": {
    "pycharm": {
     "name": "#%%\n"
    }
   },
   "outputs": [],
   "source": [
    "sp = spotipy.Spotify(auth_manager=SpotifyClientCredentials(client_id=\"62cfe79d83ef43c69a7ba63f9f5debda\",\n",
    "                                                           client_secret=\"88e6707695634f04a75301fcc77d7789\"))\n",
    "\n",
    "def find_song(name, year):\n",
    "    \"\"\"\n",
    "\n",
    "    Args:\n",
    "        name: nombre de la canción\n",
    "        year: año de publicación de la canción\n",
    "\n",
    "    Returns: dataframe con la información de la canción obtenida de la API de Spotify.\n",
    "\n",
    "    \"\"\"\n",
    "    song_data = defaultdict()\n",
    "    results = sp.search(q= 'track: {} year: {}'.format(name,year), limit=1)\n",
    "    if not results['tracks']['items']:\n",
    "        return None\n",
    "    results = results['tracks']['items'][0]\n",
    "    track_id = results['id']\n",
    "    audio_features = sp.audio_features(track_id)[0]\n",
    "\n",
    "    song_data['name'] = [name]\n",
    "    song_data['year'] = [year]\n",
    "    song_data['explicit'] = [int(results['explicit'])]\n",
    "    song_data['duration_ms'] = [results['duration_ms']]\n",
    "    song_data['popularity'] = [results['popularity']]\n",
    "\n",
    "    for key, value in audio_features.items():\n",
    "        song_data[key] = value\n",
    "\n",
    "    return pd.DataFrame(song_data)"
   ]
  },
  {
   "cell_type": "code",
   "execution_count": 17,
   "metadata": {
    "pycharm": {
     "name": "#%%\n"
    }
   },
   "outputs": [],
   "source": [
    "featuresUsed = ['duration_ms','explicit','energy','popularity','danceability','instrumentalness','liveness','loudness','year']\n",
    "\n",
    "\n",
    "def get_song_data(song, spotify_data):\n",
    "    \"\"\"\n",
    "\n",
    "    Args:\n",
    "        song: información de la canción\n",
    "        spotify_data: información de spotify (dataset)\n",
    "\n",
    "    Returns: dataframe con la información de la canción solicitada.\n",
    "\n",
    "    \"\"\"\n",
    "\n",
    "    try:\n",
    "        song_data = spotify_data[(spotify_data['name'] == song['name']) \n",
    "                                & (spotify_data['year'] == song['year'])].iloc[0]\n",
    "        \n",
    "        return song_data\n",
    "    \n",
    "    except IndexError:\n",
    "        return find_song(song['name'], song['year'])\n",
    "        \n",
    "\n",
    "def get_mean_vector(song_list, spotify_data):\n",
    "    \"\"\"\n",
    "\n",
    "    Args:\n",
    "        song_list: lista de canciones\n",
    "        spotify_data: información de spotify (dataset)\n",
    "\n",
    "    Returns: La canción representante del grupo según la lsita de canciones.\n",
    "\n",
    "    \"\"\"\n",
    "    song_vectors = []\n",
    "    \n",
    "    for song in song_list:\n",
    "        song_data = get_song_data(song, spotify_data)\n",
    "        if song_data is None:\n",
    "            print('Warning: {} does not exist in Spotify or in database'.format(song['name']))\n",
    "            continue\n",
    "        song_vector = song_data[featuresUsed].values\n",
    "        song_vectors.append(song_vector)  \n",
    "    \n",
    "    song_matrix = np.array(list(song_vectors))\n",
    "    return np.mean(song_matrix, axis=0)\n",
    "\n",
    "\n",
    "def flatten_dict_list(dict_list):\n",
    "    \"\"\"\n",
    "\n",
    "    Args:\n",
    "        dict_list: diccionario con las canciones y sus años\n",
    "\n",
    "    Returns: diccionario con las canciones (keys) y sus años (value list)\n",
    "\n",
    "    \"\"\"\n",
    "    flattened_dict = defaultdict()\n",
    "    for key in dict_list[0].keys():\n",
    "        flattened_dict[key] = []\n",
    "    \n",
    "    for dictionary in dict_list:\n",
    "        for key, value in dictionary.items():\n",
    "            flattened_dict[key].append(value)\n",
    "            \n",
    "    return flattened_dict\n",
    "\n",
    "\n",
    "def recommend_songs(song_list, spotify_data, n_songs=5):\n",
    "    \"\"\"\n",
    "\n",
    "    Args:\n",
    "        song_list: lista de canciones del usuario\n",
    "        spotify_data: información de Spotify (dataset)\n",
    "        n_songs: número de canciones\n",
    "\n",
    "    Returns: las n_songs semejantes a las canciones dadas como entrada\n",
    "\n",
    "    \"\"\"\n",
    "    metadata_cols = ['name', 'year', 'artists']\n",
    "    song_dict = flatten_dict_list(song_list)\n",
    "    song_center = get_mean_vector(song_list, spotify_data)\n",
    "    scaler = song_cluster_pipeline.steps[0][1]\n",
    "    X = psdf[featuresUsed]\n",
    "    number_cols = list(X.columns)\n",
    "    song_cluster_pipeline.fit(X)\n",
    "    song_cluster_labels = song_cluster_pipeline.predict(X)\n",
    "    psdf['cluster_label'] = song_cluster_labels\n",
    "    scaled_data = scaler.transform(spotify_data[featuresUsed])\n",
    "    scaled_song_center = scaler.transform(song_center.reshape(1, -1))\n",
    "    distances = cdist(scaled_song_center, scaled_data, 'cosine')\n",
    "    index = list(np.argsort(distances)[:, :n_songs][0])\n",
    "    rec_songs = spotify_data.iloc[index]\n",
    "    rec_songs = rec_songs[~rec_songs['name'].isin(song_dict['name'])]\n",
    "    return rec_songs[metadata_cols].to_dict(orient='records')\n"
   ]
  },
  {
   "cell_type": "markdown",
   "metadata": {
    "pycharm": {
     "name": "#%% md\n"
    }
   },
   "source": [
    "#### Prueba #1"
   ]
  },
  {
   "cell_type": "code",
   "execution_count": 18,
   "metadata": {
    "pycharm": {
     "name": "#%%\n"
    },
    "scrolled": true
   },
   "outputs": [
    {
     "data": {
      "text/plain": [
       "[{'name': 'El Perdón',\n",
       "  'year': 2017,\n",
       "  'artists': \"['Nicky Jam', 'Enrique Iglesias']\"},\n",
       " {'name': 'Come & Go (with Marshmello)',\n",
       "  'year': 2020,\n",
       "  'artists': \"['Juice WRLD', 'Marshmello']\"},\n",
       " {'name': 'El Güero (Feat. Marca MP)',\n",
       "  'year': 2019,\n",
       "  'artists': \"['Grupo Firme', 'Marca MP']\"},\n",
       " {'name': 'Fast', 'year': 2019, 'artists': \"['Juice WRLD']\"},\n",
       " {'name': 'Cold Little Heart - Radio Edit',\n",
       "  'year': 2017,\n",
       "  'artists': \"['Michael Kiwanuka']\"}]"
      ]
     },
     "execution_count": 18,
     "metadata": {},
     "output_type": "execute_result"
    }
   ],
   "source": [
    "recommend_songs([{'name': 'The Trooper',     'year': 1991},\n",
    "                 {'name': 'Strutter',        'year': 1974},\n",
    "                 {'name': 'Lithium',         'year': 1992},\n",
    "                 {'name': 'All Apologies',   'year': 1993},\n",
    "                 {'name': 'Numb',            'year': 2002}],  psdf)"
   ]
  },
  {
   "cell_type": "markdown",
   "metadata": {
    "pycharm": {
     "name": "#%% md\n"
    }
   },
   "source": [
    "#### Prueba #2"
   ]
  },
  {
   "cell_type": "code",
   "execution_count": 19,
   "metadata": {
    "pycharm": {
     "name": "#%%\n"
    }
   },
   "outputs": [
    {
     "data": {
      "text/plain": [
       "[{'name': 'Strawberry Wine', 'year': 1996, 'artists': \"['Deana Carter']\"},\n",
       " {'name': 'Coleccionista de Canciones', 'year': 2006, 'artists': \"['Camila']\"},\n",
       " {'name': 'Yo Te Amo', 'year': 2000, 'artists': \"['Chayanne']\"},\n",
       " {'name': 'All I Really Want - 2015 Remaster',\n",
       "  'year': 1995,\n",
       "  'artists': \"['Alanis Morissette']\"},\n",
       " {'name': 'Sweet Lady', 'year': 1998, 'artists': \"['Tyrese']\"}]"
      ]
     },
     "execution_count": 19,
     "metadata": {},
     "output_type": "execute_result"
    }
   ],
   "source": [
    "recommend_songs([{'name': 'Come As You Are',         'year': 1991},\n",
    "                 {'name': 'Smells Like Teen Spirit', 'year': 1991},\n",
    "                 {'name': 'Lithium',                 'year': 1992},\n",
    "                 {'name': 'All Apologies',           'year': 1993},\n",
    "                 {'name': 'Stay Away',               'year': 1993}],  psdf)"
   ]
  },
  {
   "cell_type": "markdown",
   "metadata": {
    "pycharm": {
     "name": "#%% md\n"
    }
   },
   "source": [
    "En esta última celda se obtiene la lista de canciones recomendadas."
   ]
  }
 ],
 "metadata": {
  "kernelspec": {
   "display_name": "Python 3 (ipykernel)",
   "language": "python",
   "name": "python3"
  },
  "language_info": {
   "codemirror_mode": {
    "name": "ipython",
    "version": 3
   },
   "file_extension": ".py",
   "mimetype": "text/x-python",
   "name": "python",
   "nbconvert_exporter": "python",
   "pygments_lexer": "ipython3",
   "version": "3.9.10"
  }
 },
 "nbformat": 4,
 "nbformat_minor": 4
}
