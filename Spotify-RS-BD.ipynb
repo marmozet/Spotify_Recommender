{
 "cells": [
  {
   "attachments": {
    "image.png": {
     "image/png": "[encoded data removed]"
    }
   },
   "cell_type": "markdown",
   "metadata": {},
   "source": [
    "# **Recomendador de Musica con Base de Datos de Spotify**\n",
    "\n",
    "![image.png](attachment:image.png)\n",
    "\n",
    "En esta notebook se realizará un motor de Recomendación de Canciones a partir de una base de datos pequeña de spotify.\n",
    "Empezaré con un EDA para saber como utilizar el dataset. Luego ya que tenga entienda la base la ajustare al problema para que pueda ser mas facil de utilizarla."
   ]
  },
  {
   "cell_type": "markdown",
   "metadata": {},
   "source": [
    "# **Librerias**"
   ]
  },
  {
   "cell_type": "code",
   "execution_count": 1,
   "metadata": {
    "collapsed": true
   },
   "outputs": [
    {
     "name": "stdout",
     "output_type": "stream",
     "text": [
      "Requirement already satisfied: jupyterlab in c:\\virtual_env\\sonia\\soniam\\lib\\site-packages (from -r requirements.txt (line 1)) (3.3.2)\n",
      "Requirement already satisfied: numpy in c:\\virtual_env\\sonia\\soniam\\lib\\site-packages (from -r requirements.txt (line 2)) (1.22.3)\n",
      "Requirement already satisfied: pandas in c:\\virtual_env\\sonia\\soniam\\lib\\site-packages (from -r requirements.txt (line 3)) (1.4.1)\n",
      "Requirement already satisfied: seaborn in c:\\virtual_env\\sonia\\soniam\\lib\\site-packages (from -r requirements.txt (line 4)) (0.11.2)\n",
      "Requirement already satisfied: plotly.express in c:\\virtual_env\\sonia\\soniam\\lib\\site-packages (from -r requirements.txt (line 5)) (0.4.1)\n",
      "Requirement already satisfied: matplotlib in c:\\virtual_env\\sonia\\soniam\\lib\\site-packages (from -r requirements.txt (line 6)) (3.5.1)\n",
      "Requirement already satisfied: scikit-learn in c:\\virtual_env\\sonia\\soniam\\lib\\site-packages (from -r requirements.txt (line 7)) (1.0.2)\n",
      "Requirement already satisfied: scipy in c:\\virtual_env\\sonia\\soniam\\lib\\site-packages (from -r requirements.txt (line 8)) (1.8.0)\n",
      "Requirement already satisfied: yellowbrick in c:\\virtual_env\\sonia\\soniam\\lib\\site-packages (from -r requirements.txt (line 9)) (1.4)\n",
      "Requirement already satisfied: spotipy in c:\\virtual_env\\sonia\\soniam\\lib\\site-packages (from -r requirements.txt (line 10)) (2.19.0)\n",
      "Requirement already satisfied: pyspark in c:\\virtual_env\\sonia\\soniam\\lib\\site-packages (from -r requirements.txt (line 11)) (3.2.1)\n",
      "Requirement already satisfied: pyarrow in c:\\virtual_env\\sonia\\soniam\\lib\\site-packages (from -r requirements.txt (line 12)) (8.0.0)\n",
      "Requirement already satisfied: mlflow in c:\\virtual_env\\sonia\\soniam\\lib\\site-packages (from -r requirements.txt (line 13)) (1.26.0)\n",
      "Requirement already satisfied: nbclassic~=0.2 in c:\\virtual_env\\sonia\\soniam\\lib\\site-packages (from jupyterlab->-r requirements.txt (line 1)) (0.3.7)\n",
      "Requirement already satisfied: tornado>=6.1.0 in c:\\virtual_env\\sonia\\soniam\\lib\\site-packages (from jupyterlab->-r requirements.txt (line 1)) (6.1)\n",
      "Requirement already satisfied: packaging in c:\\virtual_env\\sonia\\soniam\\lib\\site-packages (from jupyterlab->-r requirements.txt (line 1)) (21.3)\n",
      "Requirement already satisfied: jupyter-server~=1.4 in c:\\virtual_env\\sonia\\soniam\\lib\\site-packages (from jupyterlab->-r requirements.txt (line 1)) (1.16.0)\n",
      "Requirement already satisfied: jinja2>=2.1 in c:\\virtual_env\\sonia\\soniam\\lib\\site-packages (from jupyterlab->-r requirements.txt (line 1)) (3.1.1)\n",
      "Requirement already satisfied: ipython in c:\\virtual_env\\sonia\\soniam\\lib\\site-packages (from jupyterlab->-r requirements.txt (line 1)) (8.1.1)\n",
      "Requirement already satisfied: jupyter-core in c:\\virtual_env\\sonia\\soniam\\lib\\site-packages (from jupyterlab->-r requirements.txt (line 1)) (4.9.2)\n",
      "Requirement already satisfied: jupyterlab-server~=2.10 in c:\\virtual_env\\sonia\\soniam\\lib\\site-packages (from jupyterlab->-r requirements.txt (line 1)) (2.12.0)\n",
      "Requirement already satisfied: python-dateutil>=2.8.1 in c:\\virtual_env\\sonia\\soniam\\lib\\site-packages (from pandas->-r requirements.txt (line 3)) (2.8.2)\n",
      "Requirement already satisfied: pytz>=2020.1 in c:\\virtual_env\\sonia\\soniam\\lib\\site-packages (from pandas->-r requirements.txt (line 3)) (2022.1)\n",
      "Requirement already satisfied: patsy>=0.5 in c:\\virtual_env\\sonia\\soniam\\lib\\site-packages (from plotly.express->-r requirements.txt (line 5)) (0.5.2)\n",
      "Requirement already satisfied: plotly>=4.1.0 in c:\\virtual_env\\sonia\\soniam\\lib\\site-packages (from plotly.express->-r requirements.txt (line 5)) (5.6.0)\n",
      "Requirement already satisfied: statsmodels>=0.9.0 in c:\\virtual_env\\sonia\\soniam\\lib\\site-packages (from plotly.express->-r requirements.txt (line 5)) (0.13.2)\n",
      "Requirement already satisfied: fonttools>=4.22.0 in c:\\virtual_env\\sonia\\soniam\\lib\\site-packages (from matplotlib->-r requirements.txt (line 6)) (4.31.2)\n",
      "Requirement already satisfied: pyparsing>=2.2.1 in c:\\virtual_env\\sonia\\soniam\\lib\\site-packages (from matplotlib->-r requirements.txt (line 6)) (3.0.7)\n",
      "Requirement already satisfied: cycler>=0.10 in c:\\virtual_env\\sonia\\soniam\\lib\\site-packages (from matplotlib->-r requirements.txt (line 6)) (0.11.0)\n",
      "Requirement already satisfied: pillow>=6.2.0 in c:\\virtual_env\\sonia\\soniam\\lib\\site-packages (from matplotlib->-r requirements.txt (line 6)) (9.0.1)\n",
      "Requirement already satisfied: kiwisolver>=1.0.1 in c:\\virtual_env\\sonia\\soniam\\lib\\site-packages (from matplotlib->-r requirements.txt (line 6)) (1.4.0)\n",
      "Requirement already satisfied: joblib>=0.11 in c:\\virtual_env\\sonia\\soniam\\lib\\site-packages (from scikit-learn->-r requirements.txt (line 7)) (1.1.0)\n",
      "Requirement already satisfied: threadpoolctl>=2.0.0 in c:\\virtual_env\\sonia\\soniam\\lib\\site-packages (from scikit-learn->-r requirements.txt (line 7)) (3.1.0)\n",
      "Requirement already satisfied: six>=1.15.0 in c:\\virtual_env\\sonia\\soniam\\lib\\site-packages (from spotipy->-r requirements.txt (line 10)) (1.16.0)\n",
      "Requirement already satisfied: requests>=2.25.0 in c:\\virtual_env\\sonia\\soniam\\lib\\site-packages (from spotipy->-r requirements.txt (line 10)) (2.27.1)\n",
      "Requirement already satisfied: urllib3>=1.26.0 in c:\\virtual_env\\sonia\\soniam\\lib\\site-packages (from spotipy->-r requirements.txt (line 10)) (1.26.9)\n",
      "Requirement already satisfied: py4j==0.10.9.3 in c:\\virtual_env\\sonia\\soniam\\lib\\site-packages (from pyspark->-r requirements.txt (line 11)) (0.10.9.3)\n",
      "Requirement already satisfied: Flask in c:\\virtual_env\\sonia\\soniam\\lib\\site-packages (from mlflow->-r requirements.txt (line 13)) (2.1.2)\n",
      "Requirement already satisfied: waitress in c:\\virtual_env\\sonia\\soniam\\lib\\site-packages (from mlflow->-r requirements.txt (line 13)) (2.1.1)\n",
      "Requirement already satisfied: importlib-metadata!=4.7.0,>=3.7.0 in c:\\virtual_env\\sonia\\soniam\\lib\\site-packages (from mlflow->-r requirements.txt (line 13)) (4.11.3)\n",
      "Requirement already satisfied: prometheus-flask-exporter in c:\\virtual_env\\sonia\\soniam\\lib\\site-packages (from mlflow->-r requirements.txt (line 13)) (0.20.1)\n",
      "Requirement already satisfied: pyyaml>=5.1 in c:\\virtual_env\\sonia\\soniam\\lib\\site-packages (from mlflow->-r requirements.txt (line 13)) (6.0)\n",
      "Requirement already satisfied: docker>=4.0.0 in c:\\virtual_env\\sonia\\soniam\\lib\\site-packages (from mlflow->-r requirements.txt (line 13)) (5.0.3)\n",
      "Requirement already satisfied: gitpython>=2.1.0 in c:\\virtual_env\\sonia\\soniam\\lib\\site-packages (from mlflow->-r requirements.txt (line 13)) (3.1.27)\n",
      "Requirement already satisfied: entrypoints in c:\\virtual_env\\sonia\\soniam\\lib\\site-packages (from mlflow->-r requirements.txt (line 13)) (0.4)\n",
      "Requirement already satisfied: protobuf>=3.7.0 in c:\\virtual_env\\sonia\\soniam\\lib\\site-packages (from mlflow->-r requirements.txt (line 13)) (3.20.1)\n",
      "Requirement already satisfied: click>=7.0 in c:\\virtual_env\\sonia\\soniam\\lib\\site-packages (from mlflow->-r requirements.txt (line 13)) (8.1.3)\n",
      "Requirement already satisfied: alembic in c:\\virtual_env\\sonia\\soniam\\lib\\site-packages (from mlflow->-r requirements.txt (line 13)) (1.7.7)\n",
      "Requirement already satisfied: databricks-cli>=0.8.7 in c:\\virtual_env\\sonia\\soniam\\lib\\site-packages (from mlflow->-r requirements.txt (line 13)) (0.16.6)\n",
      "Requirement already satisfied: cloudpickle in c:\\virtual_env\\sonia\\soniam\\lib\\site-packages (from mlflow->-r requirements.txt (line 13)) (2.0.0)\n",
      "Requirement already satisfied: sqlparse>=0.3.1 in c:\\virtual_env\\sonia\\soniam\\lib\\site-packages (from mlflow->-r requirements.txt (line 13)) (0.4.2)\n",
      "Requirement already satisfied: querystring-parser in c:\\virtual_env\\sonia\\soniam\\lib\\site-packages (from mlflow->-r requirements.txt (line 13)) (1.2.4)\n",
      "Requirement already satisfied: sqlalchemy in c:\\virtual_env\\sonia\\soniam\\lib\\site-packages (from mlflow->-r requirements.txt (line 13)) (1.4.36)\n",
      "Requirement already satisfied: colorama in c:\\virtual_env\\sonia\\soniam\\lib\\site-packages (from click>=7.0->mlflow->-r requirements.txt (line 13)) (0.4.4)\n",
      "Requirement already satisfied: tabulate>=0.7.7 in c:\\virtual_env\\sonia\\soniam\\lib\\site-packages (from databricks-cli>=0.8.7->mlflow->-r requirements.txt (line 13)) (0.8.9)\n",
      "Requirement already satisfied: oauthlib>=3.1.0 in c:\\virtual_env\\sonia\\soniam\\lib\\site-packages (from databricks-cli>=0.8.7->mlflow->-r requirements.txt (line 13)) (3.2.0)\n",
      "Requirement already satisfied: pyjwt>=1.7.0 in c:\\virtual_env\\sonia\\soniam\\lib\\site-packages (from databricks-cli>=0.8.7->mlflow->-r requirements.txt (line 13)) (2.4.0)\n",
      "Requirement already satisfied: websocket-client>=0.32.0 in c:\\virtual_env\\sonia\\soniam\\lib\\site-packages (from docker>=4.0.0->mlflow->-r requirements.txt (line 13)) (1.3.2)\n",
      "Requirement already satisfied: pywin32==227 in c:\\virtual_env\\sonia\\soniam\\lib\\site-packages (from docker>=4.0.0->mlflow->-r requirements.txt (line 13)) (227)\n",
      "Requirement already satisfied: gitdb<5,>=4.0.1 in c:\\virtual_env\\sonia\\soniam\\lib\\site-packages (from gitpython>=2.1.0->mlflow->-r requirements.txt (line 13)) (4.0.9)\n",
      "Requirement already satisfied: zipp>=0.5 in c:\\virtual_env\\sonia\\soniam\\lib\\site-packages (from importlib-metadata!=4.7.0,>=3.7.0->mlflow->-r requirements.txt (line 13)) (3.8.0)\n",
      "Requirement already satisfied: MarkupSafe>=2.0 in c:\\virtual_env\\sonia\\soniam\\lib\\site-packages (from jinja2>=2.1->jupyterlab->-r requirements.txt (line 1)) (2.1.1)\n",
      "Requirement already satisfied: prometheus-client in c:\\virtual_env\\sonia\\soniam\\lib\\site-packages (from jupyter-server~=1.4->jupyterlab->-r requirements.txt (line 1)) (0.13.1)\n",
      "Requirement already satisfied: nbconvert>=6.4.4 in c:\\virtual_env\\sonia\\soniam\\lib\\site-packages (from jupyter-server~=1.4->jupyterlab->-r requirements.txt (line 1)) (6.4.5)\n",
      "Requirement already satisfied: traitlets>=5.1.0 in c:\\virtual_env\\sonia\\soniam\\lib\\site-packages (from jupyter-server~=1.4->jupyterlab->-r requirements.txt (line 1)) (5.1.1)\n",
      "Requirement already satisfied: argon2-cffi in c:\\virtual_env\\sonia\\soniam\\lib\\site-packages (from jupyter-server~=1.4->jupyterlab->-r requirements.txt (line 1)) (21.3.0)\n",
      "Requirement already satisfied: pyzmq>=17 in c:\\virtual_env\\sonia\\soniam\\lib\\site-packages (from jupyter-server~=1.4->jupyterlab->-r requirements.txt (line 1)) (22.3.0)\n",
      "Requirement already satisfied: nbformat>=5.2.0 in c:\\virtual_env\\sonia\\soniam\\lib\\site-packages (from jupyter-server~=1.4->jupyterlab->-r requirements.txt (line 1)) (5.2.0)\n",
      "Requirement already satisfied: terminado>=0.8.3 in c:\\virtual_env\\sonia\\soniam\\lib\\site-packages (from jupyter-server~=1.4->jupyterlab->-r requirements.txt (line 1)) (0.13.3)\n",
      "Requirement already satisfied: anyio>=3.1.0 in c:\\virtual_env\\sonia\\soniam\\lib\\site-packages (from jupyter-server~=1.4->jupyterlab->-r requirements.txt (line 1)) (3.5.0)\n",
      "Requirement already satisfied: pywinpty in c:\\virtual_env\\sonia\\soniam\\lib\\site-packages (from jupyter-server~=1.4->jupyterlab->-r requirements.txt (line 1)) (2.0.5)\n",
      "Requirement already satisfied: jupyter-client>=6.1.12 in c:\\virtual_env\\sonia\\soniam\\lib\\site-packages (from jupyter-server~=1.4->jupyterlab->-r requirements.txt (line 1)) (7.1.2)\n",
      "Requirement already satisfied: Send2Trash in c:\\virtual_env\\sonia\\soniam\\lib\\site-packages (from jupyter-server~=1.4->jupyterlab->-r requirements.txt (line 1)) (1.8.0)\n",
      "Requirement already satisfied: json5 in c:\\virtual_env\\sonia\\soniam\\lib\\site-packages (from jupyterlab-server~=2.10->jupyterlab->-r requirements.txt (line 1)) (0.9.6)\n",
      "Requirement already satisfied: jsonschema>=3.0.1 in c:\\virtual_env\\sonia\\soniam\\lib\\site-packages (from jupyterlab-server~=2.10->jupyterlab->-r requirements.txt (line 1)) (4.4.0)\n",
      "Requirement already satisfied: babel in c:\\virtual_env\\sonia\\soniam\\lib\\site-packages (from jupyterlab-server~=2.10->jupyterlab->-r requirements.txt (line 1)) (2.9.1)\n",
      "Requirement already satisfied: notebook-shim>=0.1.0 in c:\\virtual_env\\sonia\\soniam\\lib\\site-packages (from nbclassic~=0.2->jupyterlab->-r requirements.txt (line 1)) (0.1.0)\n",
      "Requirement already satisfied: notebook<7 in c:\\virtual_env\\sonia\\soniam\\lib\\site-packages (from nbclassic~=0.2->jupyterlab->-r requirements.txt (line 1)) (6.4.10)\n",
      "Requirement already satisfied: tenacity>=6.2.0 in c:\\virtual_env\\sonia\\soniam\\lib\\site-packages (from plotly>=4.1.0->plotly.express->-r requirements.txt (line 5)) (8.0.1)\n",
      "Requirement already satisfied: charset-normalizer~=2.0.0 in c:\\virtual_env\\sonia\\soniam\\lib\\site-packages (from requests>=2.25.0->spotipy->-r requirements.txt (line 10)) (2.0.12)\n",
      "Requirement already satisfied: idna<4,>=2.5 in c:\\virtual_env\\sonia\\soniam\\lib\\site-packages (from requests>=2.25.0->spotipy->-r requirements.txt (line 10)) (3.3)\n",
      "Requirement already satisfied: certifi>=2017.4.17 in c:\\virtual_env\\sonia\\soniam\\lib\\site-packages (from requests>=2.25.0->spotipy->-r requirements.txt (line 10)) (2021.10.8)\n",
      "Requirement already satisfied: Mako in c:\\virtual_env\\sonia\\soniam\\lib\\site-packages (from alembic->mlflow->-r requirements.txt (line 13)) (1.2.0)\n",
      "Requirement already satisfied: greenlet!=0.4.17 in c:\\virtual_env\\sonia\\soniam\\lib\\site-packages (from sqlalchemy->mlflow->-r requirements.txt (line 13)) (1.1.2)\n",
      "Requirement already satisfied: Werkzeug>=2.0 in c:\\virtual_env\\sonia\\soniam\\lib\\site-packages (from Flask->mlflow->-r requirements.txt (line 13)) (2.1.2)\n",
      "Requirement already satisfied: itsdangerous>=2.0 in c:\\virtual_env\\sonia\\soniam\\lib\\site-packages (from Flask->mlflow->-r requirements.txt (line 13)) (2.1.2)\n",
      "Requirement already satisfied: stack-data in c:\\virtual_env\\sonia\\soniam\\lib\\site-packages (from ipython->jupyterlab->-r requirements.txt (line 1)) (0.2.0)\n",
      "Requirement already satisfied: pickleshare in c:\\virtual_env\\sonia\\soniam\\lib\\site-packages (from ipython->jupyterlab->-r requirements.txt (line 1)) (0.7.5)\n",
      "Requirement already satisfied: pygments>=2.4.0 in c:\\virtual_env\\sonia\\soniam\\lib\\site-packages (from ipython->jupyterlab->-r requirements.txt (line 1)) (2.11.2)\n",
      "Requirement already satisfied: prompt-toolkit!=3.0.0,!=3.0.1,<3.1.0,>=2.0.0 in c:\\virtual_env\\sonia\\soniam\\lib\\site-packages (from ipython->jupyterlab->-r requirements.txt (line 1)) (3.0.28)\n",
      "Requirement already satisfied: backcall in c:\\virtual_env\\sonia\\soniam\\lib\\site-packages (from ipython->jupyterlab->-r requirements.txt (line 1)) (0.2.0)\n",
      "Requirement already satisfied: decorator in c:\\virtual_env\\sonia\\soniam\\lib\\site-packages (from ipython->jupyterlab->-r requirements.txt (line 1)) (5.1.1)\n",
      "Requirement already satisfied: matplotlib-inline in c:\\virtual_env\\sonia\\soniam\\lib\\site-packages (from ipython->jupyterlab->-r requirements.txt (line 1)) (0.1.3)\n",
      "Requirement already satisfied: setuptools>=18.5 in c:\\virtual_env\\sonia\\soniam\\lib\\site-packages (from ipython->jupyterlab->-r requirements.txt (line 1)) (62.1.0)\n",
      "Requirement already satisfied: jedi>=0.16 in c:\\virtual_env\\sonia\\soniam\\lib\\site-packages (from ipython->jupyterlab->-r requirements.txt (line 1)) (0.18.1)\n",
      "Requirement already satisfied: sniffio>=1.1 in c:\\virtual_env\\sonia\\soniam\\lib\\site-packages (from anyio>=3.1.0->jupyter-server~=1.4->jupyterlab->-r requirements.txt (line 1)) (1.2.0)\n",
      "Requirement already satisfied: smmap<6,>=3.0.1 in c:\\virtual_env\\sonia\\soniam\\lib\\site-packages (from gitdb<5,>=4.0.1->gitpython>=2.1.0->mlflow->-r requirements.txt (line 13)) (5.0.0)\n",
      "Requirement already satisfied: parso<0.9.0,>=0.8.0 in c:\\virtual_env\\sonia\\soniam\\lib\\site-packages (from jedi>=0.16->ipython->jupyterlab->-r requirements.txt (line 1)) (0.8.3)\n",
      "Requirement already satisfied: pyrsistent!=0.17.0,!=0.17.1,!=0.17.2,>=0.14.0 in c:\\virtual_env\\sonia\\soniam\\lib\\site-packages (from jsonschema>=3.0.1->jupyterlab-server~=2.10->jupyterlab->-r requirements.txt (line 1)) (0.18.1)\n",
      "Requirement already satisfied: attrs>=17.4.0 in c:\\virtual_env\\sonia\\soniam\\lib\\site-packages (from jsonschema>=3.0.1->jupyterlab-server~=2.10->jupyterlab->-r requirements.txt (line 1)) (21.4.0)\n",
      "Requirement already satisfied: nest-asyncio>=1.5 in c:\\virtual_env\\sonia\\soniam\\lib\\site-packages (from jupyter-client>=6.1.12->jupyter-server~=1.4->jupyterlab->-r requirements.txt (line 1)) (1.5.4)\n",
      "Requirement already satisfied: nbclient<0.6.0,>=0.5.0 in c:\\virtual_env\\sonia\\soniam\\lib\\site-packages (from nbconvert>=6.4.4->jupyter-server~=1.4->jupyterlab->-r requirements.txt (line 1)) (0.5.13)\n",
      "Requirement already satisfied: bleach in c:\\virtual_env\\sonia\\soniam\\lib\\site-packages (from nbconvert>=6.4.4->jupyter-server~=1.4->jupyterlab->-r requirements.txt (line 1)) (4.1.0)\n",
      "Requirement already satisfied: jupyterlab-pygments in c:\\virtual_env\\sonia\\soniam\\lib\\site-packages (from nbconvert>=6.4.4->jupyter-server~=1.4->jupyterlab->-r requirements.txt (line 1)) (0.1.2)\n",
      "Requirement already satisfied: mistune<2,>=0.8.1 in c:\\virtual_env\\sonia\\soniam\\lib\\site-packages (from nbconvert>=6.4.4->jupyter-server~=1.4->jupyterlab->-r requirements.txt (line 1)) (0.8.4)\n",
      "Requirement already satisfied: defusedxml in c:\\virtual_env\\sonia\\soniam\\lib\\site-packages (from nbconvert>=6.4.4->jupyter-server~=1.4->jupyterlab->-r requirements.txt (line 1)) (0.7.1)\n",
      "Requirement already satisfied: testpath in c:\\virtual_env\\sonia\\soniam\\lib\\site-packages (from nbconvert>=6.4.4->jupyter-server~=1.4->jupyterlab->-r requirements.txt (line 1)) (0.6.0)\n",
      "Requirement already satisfied: pandocfilters>=1.4.1 in c:\\virtual_env\\sonia\\soniam\\lib\\site-packages (from nbconvert>=6.4.4->jupyter-server~=1.4->jupyterlab->-r requirements.txt (line 1)) (1.5.0)\n",
      "Requirement already satisfied: beautifulsoup4 in c:\\virtual_env\\sonia\\soniam\\lib\\site-packages (from nbconvert>=6.4.4->jupyter-server~=1.4->jupyterlab->-r requirements.txt (line 1)) (4.10.0)\n",
      "Requirement already satisfied: ipykernel in c:\\virtual_env\\sonia\\soniam\\lib\\site-packages (from notebook<7->nbclassic~=0.2->jupyterlab->-r requirements.txt (line 1)) (6.9.2)\n",
      "Requirement already satisfied: ipython-genutils in c:\\virtual_env\\sonia\\soniam\\lib\\site-packages (from notebook<7->nbclassic~=0.2->jupyterlab->-r requirements.txt (line 1)) (0.2.0)\n",
      "Requirement already satisfied: wcwidth in c:\\virtual_env\\sonia\\soniam\\lib\\site-packages (from prompt-toolkit!=3.0.0,!=3.0.1,<3.1.0,>=2.0.0->ipython->jupyterlab->-r requirements.txt (line 1)) (0.2.5)\n",
      "Requirement already satisfied: argon2-cffi-bindings in c:\\virtual_env\\sonia\\soniam\\lib\\site-packages (from argon2-cffi->jupyter-server~=1.4->jupyterlab->-r requirements.txt (line 1)) (21.2.0)\n",
      "Requirement already satisfied: asttokens in c:\\virtual_env\\sonia\\soniam\\lib\\site-packages (from stack-data->ipython->jupyterlab->-r requirements.txt (line 1)) (2.0.5)\n",
      "Requirement already satisfied: pure-eval in c:\\virtual_env\\sonia\\soniam\\lib\\site-packages (from stack-data->ipython->jupyterlab->-r requirements.txt (line 1)) (0.2.2)\n",
      "Requirement already satisfied: executing in c:\\virtual_env\\sonia\\soniam\\lib\\site-packages (from stack-data->ipython->jupyterlab->-r requirements.txt (line 1)) (0.8.3)\n",
      "Requirement already satisfied: cffi>=1.0.1 in c:\\virtual_env\\sonia\\soniam\\lib\\site-packages (from argon2-cffi-bindings->argon2-cffi->jupyter-server~=1.4->jupyterlab->-r requirements.txt (line 1)) (1.15.0)\n",
      "Requirement already satisfied: soupsieve>1.2 in c:\\virtual_env\\sonia\\soniam\\lib\\site-packages (from beautifulsoup4->nbconvert>=6.4.4->jupyter-server~=1.4->jupyterlab->-r requirements.txt (line 1)) (2.3.1)\n",
      "Requirement already satisfied: webencodings in c:\\virtual_env\\sonia\\soniam\\lib\\site-packages (from bleach->nbconvert>=6.4.4->jupyter-server~=1.4->jupyterlab->-r requirements.txt (line 1)) (0.5.1)\n",
      "Requirement already satisfied: psutil in c:\\virtual_env\\sonia\\soniam\\lib\\site-packages (from ipykernel->notebook<7->nbclassic~=0.2->jupyterlab->-r requirements.txt (line 1)) (5.9.0)\n",
      "Requirement already satisfied: debugpy<2.0,>=1.0.0 in c:\\virtual_env\\sonia\\soniam\\lib\\site-packages (from ipykernel->notebook<7->nbclassic~=0.2->jupyterlab->-r requirements.txt (line 1)) (1.5.1)\n",
      "Requirement already satisfied: pycparser in c:\\virtual_env\\sonia\\soniam\\lib\\site-packages (from cffi>=1.0.1->argon2-cffi-bindings->argon2-cffi->jupyter-server~=1.4->jupyterlab->-r requirements.txt (line 1)) (2.21)\n",
      "Note: you may need to restart the kernel to use updated packages.\n"
     ]
    },
    {
     "name": "stderr",
     "output_type": "stream",
     "text": [
      "WARNING: You are using pip version 22.0.4; however, version 22.1 is available.\n",
      "You should consider upgrading via the 'C:\\virtual_env\\Sonia\\SoniaM\\Scripts\\python.exe -m pip install --upgrade pip' command.\n"
     ]
    }
   ],
   "source": [
    "pip install -r requirements.txt"
   ]
  },
  {
   "cell_type": "code",
   "execution_count": 2,
   "metadata": {
    "execution": {
     "iopub.execute_input": "2021-12-17T05:44:20.715330Z",
     "iopub.status.busy": "2021-12-17T05:44:20.714397Z",
     "iopub.status.idle": "2021-12-17T05:44:21.808185Z",
     "shell.execute_reply": "2021-12-17T05:44:21.807394Z",
     "shell.execute_reply.started": "2021-12-17T05:44:20.715276Z"
    }
   },
   "outputs": [],
   "source": [
    "import numpy as np\n",
    "import pandas as pd\n",
    "\n",
    "import seaborn as sns\n",
    "import plotly.express as px \n",
    "import matplotlib.pyplot as plt\n",
    "%matplotlib inline\n",
    "\n",
    "from sklearn.cluster import KMeans\n",
    "from sklearn.preprocessing import StandardScaler\n",
    "from sklearn.pipeline import Pipeline\n",
    "from sklearn.manifold import TSNE\n",
    "from sklearn.decomposition import PCA\n",
    "from sklearn.metrics import euclidean_distances\n",
    "from scipy.spatial.distance import cdist\n",
    "\n",
    "from yellowbrick.target import FeatureCorrelation\n",
    "\n",
    "import spotipy\n",
    "from spotipy.oauth2 import SpotifyClientCredentials\n",
    "from collections import defaultdict\n",
    "import difflib\n",
    "\n",
    "import json\n",
    "\n",
    "import warnings\n",
    "warnings.filterwarnings(\"ignore\")"
   ]
  },
  {
   "cell_type": "markdown",
   "metadata": {},
   "source": [
    "# **Leemos los Datos**"
   ]
  },
  {
   "cell_type": "code",
   "execution_count": 3,
   "metadata": {
    "execution": {
     "iopub.execute_input": "2021-12-17T05:44:21.810083Z",
     "iopub.status.busy": "2021-12-17T05:44:21.809689Z",
     "iopub.status.idle": "2021-12-17T05:44:22.522129Z",
     "shell.execute_reply": "2021-12-17T05:44:22.521334Z",
     "shell.execute_reply.started": "2021-12-17T05:44:21.810053Z"
    }
   },
   "outputs": [],
   "source": [
    "data = pd.read_csv(\"spotify_tracks.csv\")"
   ]
  },
  {
   "cell_type": "code",
   "execution_count": 4,
   "metadata": {
    "_kg_hide-output": true,
    "execution": {
     "iopub.execute_input": "2021-12-17T05:44:22.523745Z",
     "iopub.status.busy": "2021-12-17T05:44:22.523285Z",
     "iopub.status.idle": "2021-12-17T05:44:22.617801Z",
     "shell.execute_reply": "2021-12-17T05:44:22.616916Z",
     "shell.execute_reply.started": "2021-12-17T05:44:22.523696Z"
    }
   },
   "outputs": [
    {
     "name": "stdout",
     "output_type": "stream",
     "text": [
      "<class 'pandas.core.frame.DataFrame'>\n",
      "RangeIndex: 8741672 entries, 0 to 8741671\n",
      "Data columns (total 22 columns):\n",
      " #   Column            Dtype  \n",
      "---  ------            -----  \n",
      " 0   Unnamed: 0        int64  \n",
      " 1   id                object \n",
      " 2   disc_number       int64  \n",
      " 3   duration          float64\n",
      " 4   explicit          int64  \n",
      " 5   audio_feature_id  object \n",
      " 6   name              object \n",
      " 7   preview_url       object \n",
      " 8   track_number      int64  \n",
      " 9   popularity        int64  \n",
      " 10  is_playable       float64\n",
      " 11  valence           float64\n",
      " 12  acousticness      float64\n",
      " 13  danceability      float64\n",
      " 14  energy            float64\n",
      " 15  instrumentalness  float64\n",
      " 16  liveness          float64\n",
      " 17  loudness          float64\n",
      " 18  speechiness       float64\n",
      " 19  tempo             float64\n",
      " 20  key               float64\n",
      " 21  mode              float64\n",
      "dtypes: float64(13), int64(5), object(4)\n",
      "memory usage: 1.4+ GB\n",
      "None\n"
     ]
    }
   ],
   "source": [
    "print(data.info())"
   ]
  },
  {
   "cell_type": "markdown",
   "metadata": {},
   "source": [
    "Vamos a comprobar todos los parametros con la columna **'popularidad'**. Antes de ir a hacer eso vamos a comprobar la Correlación de Características considerando algunas características y para eso, voy a utilizar el paquete **yellowbrick**. Puedes aprender más sobre él en la página [documentation](https://www.scikit-yb.org/en/latest/index.html)."
   ]
  },
  {
   "cell_type": "code",
   "execution_count": 5,
   "metadata": {
    "_kg_hide-input": true,
    "execution": {
     "iopub.execute_input": "2021-12-17T05:44:22.650055Z",
     "iopub.status.busy": "2021-12-17T05:44:22.649461Z",
     "iopub.status.idle": "2021-12-17T05:44:22.923236Z",
     "shell.execute_reply": "2021-12-17T05:44:22.922246Z",
     "shell.execute_reply.started": "2021-12-17T05:44:22.650012Z"
    },
    "scrolled": false
   },
   "outputs": [
    {
     "data": {
      "image/png": "[encoded data removed]",
      "text/plain": [
       "<Figure size 1440x1440 with 1 Axes>"
      ]
     },
     "metadata": {},
     "output_type": "display_data"
    },
    {
     "data": {
      "text/plain": [
       "<AxesSubplot:title={'center':'Features correlation with dependent variable'}, xlabel='Pearson Correlation'>"
      ]
     },
     "execution_count": 5,
     "metadata": {},
     "output_type": "execute_result"
    }
   ],
   "source": [
    "feature_names = ['acousticness', 'danceability', 'energy', 'instrumentalness',\n",
    "       'liveness', 'loudness', 'speechiness', 'tempo', 'valence','duration','explicit','key','mode']\n",
    "\n",
    "X, y = data[feature_names], data['popularity']\n",
    "\n",
    "# Creamos una lista con los nombres de las caracteristicas\n",
    "features = np.array(feature_names)\n",
    "\n",
    "# Creamos la instancia\n",
    "visualizer = FeatureCorrelation(labels=features)\n",
    "\n",
    "plt.rcParams['figure.figsize']=(20,20)\n",
    "visualizer.fit(X, y)\n",
    "visualizer.show()"
   ]
  },
  {
   "cell_type": "markdown",
   "metadata": {},
   "source": [
    "En estadística, el coeficiente de correlación de Pearson es una medida de dependencia lineal entre dos variables aleatorias cuantitativas. A diferencia de la covarianza, la correlación de Pearson es independiente de la escala de medida de las variables.\n",
    "\n",
    "De manera menos formal, podemos definir el coeficiente de correlación de Pearson como un índice que puede utilizarse para medir el grado de relación de dos variables siempre y cuando ambas sean cuantitativas y continuas. "
   ]
  },
  {
   "cell_type": "markdown",
   "metadata": {},
   "source": [
    "# **Agrupación de canciones con K-Means**"
   ]
  },
  {
   "cell_type": "code",
   "execution_count": null,
   "metadata": {
    "_kg_hide-output": true,
    "execution": {
     "iopub.execute_input": "2021-12-17T05:44:43.191246Z",
     "iopub.status.busy": "2021-12-17T05:44:43.190695Z",
     "iopub.status.idle": "2021-12-17T05:44:55.203359Z",
     "shell.execute_reply": "2021-12-17T05:44:55.202178Z",
     "shell.execute_reply.started": "2021-12-17T05:44:43.191203Z"
    }
   },
   "outputs": [],
   "source": [
    "song_cluster_pipeline = Pipeline([('scaler', StandardScaler()), \n",
    "                                  ('kmeans', KMeans(n_clusters=20, \n",
    "                                   verbose=False))\n",
    "                                 ], verbose=False)\n",
    "\n",
    "number_cols = ['valence', 'acousticness', 'danceability', 'duration', 'energy', 'explicit',\n",
    "'instrumentalness', 'key', 'liveness', 'loudness', 'mode', 'popularity', 'speechiness', 'tempo']\n",
    "\n",
    "#number_cols = ['valence', 'danceability', 'energy', 'explicit',\n",
    "#               'key', 'liveness', 'loudness', 'popularity', 'speechiness', 'tempo']\n",
    "\n",
    "#number_cols = [ 'danceability',  'energy', 'explicit', 'loudness', 'popularity', 'tempo','valence']\n",
    "\n",
    "#number_cols = [ 'danceability',  'energy', 'explicit', 'loudness', 'popularity', 'tempo']\n",
    "\n",
    "X = data[number_cols]\n",
    "number_cols = list(X.columns)\n",
    "song_cluster_pipeline.fit(X)\n",
    "song_cluster_labels = song_cluster_pipeline.predict(X)\n",
    "data['cluster_label'] = song_cluster_labels"
   ]
  },
  {
   "cell_type": "markdown",
   "metadata": {},
   "source": [
    "# **Construcción del Motor de recomendación**\n",
    "\n",
    "* Según el análisis y las visualizaciones, está claro que los géneros similares tienden a tener puntos de datos que se ubican cerca unos de otros, mientras que los tipos de canciones similares también se agrupan.\n",
    "* Esta observación tiene mucho sentido. Los géneros similares sonarán de manera similar y provendrán de períodos de tiempo similares, mientras que lo mismo puede decirse de las canciones dentro de esos géneros. Podemos usar esta idea para construir un sistema de recomendación tomando los puntos de datos de las canciones que un usuario ha escuchado y recomendando canciones correspondientes a puntos de datos cercanos.\n",
    "* [Spotipy](https://spotipy.readthedocs.io/en/2.16.1/) es un cliente de Python para la API web de Spotify que facilita a los desarrolladores la obtención de datos y la consulta de canciones en el catálogo de Spotify. Tienes que instalar usando `pip install spotipy`\n",
    "* Después de instalar Spotipy, deberá crear una aplicación en la [página del desarrollador de Spotify] (https://developer.spotify.com/) y guardar su ID de cliente y clave secreta."
   ]
  },
  {
   "cell_type": "code",
   "execution_count": null,
   "metadata": {},
   "outputs": [],
   "source": [
    "sp = spotipy.Spotify(auth_manager=SpotifyClientCredentials(client_id=\"62cfe79d83ef43c69a7ba63f9f5debda\",\n",
    "                                                           client_secret=\"88e6707695634f04a75301fcc77d7789\"))\n",
    "\n",
    "def find_song(name):\n",
    "    song_data = defaultdict()\n",
    "    results = sp.search(q= 'track: {}'.format(name), limit=1)\n",
    "    if results['tracks']['items'] == []:\n",
    "        return None\n",
    "    results = results['tracks']['items'][0]\n",
    "    track_id = results['id']\n",
    "    audio_features = sp.audio_features(track_id)[0]\n",
    "\n",
    "    song_data['name'] = [name]\n",
    "    song_data['explicit'] = [int(results['explicit'])]\n",
    "    # song_data['duration'] = [results['duration_ms']]\n",
    "    song_data['popularity'] = [results['popularity']]\n",
    "    # song_data['loudness'] = [results['loudness']]\n",
    "    # song_data['danceability'] = [results['danceability']]\n",
    "    # song_data['energy'] = [results['energy']]\n",
    "    # song_data['tempo'] = [results['tempo']]\n",
    "    list_of_dict_values = list(results.values())\n",
    "    results_string = json.dumps(list_of_dict_values)\n",
    "    index_release_date = results_string.find(\"release_date\")\n",
    "    year_index1 = index_release_date + 16\n",
    "    year_index2 = index_release_date + 17\n",
    "    year_index3 = index_release_date + 18\n",
    "    year_index4 = index_release_date + 19\n",
    "    year_string = results_string[year_index1] + results_string[year_index2] + results_string[year_index3] + results_string[year_index4]\n",
    "    print(year_string)\n",
    "    \n",
    "    song_data['year'] = [int(year_string)]\n",
    "    for key, value in audio_features.items():\n",
    "        song_data[key] = value\n",
    "\n",
    "    return pd.DataFrame(song_data)\n"
   ]
  },
  {
   "cell_type": "code",
   "execution_count": null,
   "metadata": {},
   "outputs": [],
   "source": [
    "def get_song_data(song, spotify_data):\n",
    "    \n",
    "  #  try:\n",
    "  #      song_data = spotify_data[(spotify_data['name'] == song['name'])].iloc[0]\n",
    "  #      print(song['name'], ': si esta')\n",
    "  #      return song_data\n",
    "    \n",
    "  #  except IndexError:\n",
    "    print(song['name'], ': no esta')\n",
    "    return find_song(song['name'])\n",
    "        \n",
    "\n",
    "def get_mean_vector(song_list, spotify_data):\n",
    "    \n",
    "    song_vectors = []\n",
    "    \n",
    "    for song in song_list:\n",
    "        song_data = get_song_data(song, spotify_data)\n",
    "        if song_data is None:\n",
    "            print('Warning: {} does not exist in Spotify or in database'.format(song['name']))\n",
    "            continue\n",
    "        song_vector = song_data[number_cols].values\n",
    "        song_vectors.append(song_vector)  \n",
    "    song_matrix = np.array(list(song_vectors))\n",
    "    return np.mean(song_matrix, axis=0)\n",
    "\n",
    "\n",
    "def flatten_dict_list(dict_list):\n",
    "    \n",
    "    flattened_dict = defaultdict()\n",
    "    for key in dict_list[0].keys():\n",
    "        flattened_dict[key] = []\n",
    "    \n",
    "    for dictionary in dict_list:\n",
    "        for key, value in dictionary.items():\n",
    "            flattened_dict[key].append(value)\n",
    "            \n",
    "    return flattened_dict\n",
    "\n",
    "\n",
    "def recommend_songs( song_list, spotify_data, n_songs=5):\n",
    "    metadata_cols = ['id','name','artists']\n",
    "    song_dict = flatten_dict_list(song_list)\n",
    "    song_center = get_mean_vector(song_list, spotify_data)\n",
    "    scaler = song_cluster_pipeline.steps[0][1]\n",
    "    scaled_data = scaler.transform(spotify_data[number_cols])\n",
    "    scaled_song_center = scaler.transform(song_center.reshape(1, -1))\n",
    "    distances = cdist(scaled_song_center, scaled_data, 'cosine')\n",
    "    index = list(np.argsort(distances)[:, :n_songs][0])\n",
    "    rec_songs = spotify_data.iloc[index]\n",
    "    rec_songs = rec_songs[~rec_songs['name'].isin(song_dict['name'])]\n",
    "    return rec_songs[metadata_cols]"
   ]
  },
  {
   "cell_type": "code",
   "execution_count": null,
   "metadata": {},
   "outputs": [],
   "source": [
    "recommend_songs([{'name': 'Lobo Domesticado'}],  data)"
   ]
  },
  {
   "cell_type": "markdown",
   "metadata": {},
   "source": [
    "* Esta última celda te dará una lista de recomendación de canciones\n",
    "\n",
    "* Puedes cambiar la lista de canciones según tu elección."
   ]
  },
  {
   "cell_type": "code",
   "execution_count": null,
   "metadata": {},
   "outputs": [],
   "source": []
  },
  {
   "cell_type": "code",
   "execution_count": null,
   "metadata": {},
   "outputs": [],
   "source": []
  },
  {
   "cell_type": "code",
   "execution_count": null,
   "metadata": {},
   "outputs": [],
   "source": []
  }
 ],
 "metadata": {
  "interpreter": {
   "hash": "218a487a3cb4a64c06e9c311462bc62c8727efd4f857508a0d29a4d3bf9d28d1"
  },
  "kernelspec": {
   "display_name": "Python 3 (ipykernel)",
   "language": "python",
   "name": "python3"
  },
  "language_info": {
   "codemirror_mode": {
    "name": "ipython",
    "version": 3
   },
   "file_extension": ".py",
   "mimetype": "text/x-python",
   "name": "python",
   "nbconvert_exporter": "python",
   "pygments_lexer": "ipython3",
   "version": "3.9.10"
  }
 },
 "nbformat": 4,
 "nbformat_minor": 4
}
