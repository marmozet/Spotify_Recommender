{
 "cells": [
  {
   "attachments": {
    "image.png": {
     "image/png": "[encoded data removed]"
    }
   },
   "cell_type": "markdown",
   "metadata": {},
   "source": [
    "# **Recomendador de Musica con Base de Datos de Spotify**\n",
    "\n",
    "![image.png](attachment:image.png)\n",
    "\n",
    "En esta notebook se realizará un motor de Recomendación de Canciones a partir de una base de datos pequeña de spotify.\n",
    "Empezaré con un EDA para saber como utilizar el dataset. Luego ya que tenga entienda la base la ajustare al problema para que pueda ser mas facil de utilizarla."
   ]
  },
  {
   "cell_type": "markdown",
   "metadata": {},
   "source": [
    "# **Librerias**"
   ]
  },
  {
   "cell_type": "code",
   "execution_count": null,
   "metadata": {
    "collapsed": true
   },
   "outputs": [],
   "source": [
    "pip install -r requirements.txt"
   ]
  },
  {
   "cell_type": "code",
   "execution_count": null,
   "metadata": {
    "execution": {
     "iopub.execute_input": "2021-12-17T05:44:20.715330Z",
     "iopub.status.busy": "2021-12-17T05:44:20.714397Z",
     "iopub.status.idle": "2021-12-17T05:44:21.808185Z",
     "shell.execute_reply": "2021-12-17T05:44:21.807394Z",
     "shell.execute_reply.started": "2021-12-17T05:44:20.715276Z"
    }
   },
   "outputs": [],
   "source": [
    "import numpy as np\n",
    "import pandas as pd\n",
    "\n",
    "import seaborn as sns\n",
    "import plotly.express as px \n",
    "import matplotlib.pyplot as plt\n",
    "%matplotlib inline\n",
    "\n",
    "from sklearn.cluster import KMeans\n",
    "from sklearn.preprocessing import StandardScaler\n",
    "from sklearn.pipeline import Pipeline\n",
    "from sklearn.manifold import TSNE\n",
    "from sklearn.decomposition import PCA\n",
    "from sklearn.metrics import euclidean_distances\n",
    "from scipy.spatial.distance import cdist\n",
    "\n",
    "from yellowbrick.target import FeatureCorrelation\n",
    "\n",
    "import spotipy\n",
    "from spotipy.oauth2 import SpotifyClientCredentials\n",
    "from collections import defaultdict\n",
    "import difflib\n",
    "\n",
    "import json\n",
    "\n",
    "import warnings\n",
    "warnings.filterwarnings(\"ignore\")"
   ]
  },
  {
   "cell_type": "markdown",
   "metadata": {},
   "source": [
    "# **Leemos los Datos**"
   ]
  },
  {
   "cell_type": "code",
   "execution_count": null,
   "metadata": {
    "execution": {
     "iopub.execute_input": "2021-12-17T05:44:21.810083Z",
     "iopub.status.busy": "2021-12-17T05:44:21.809689Z",
     "iopub.status.idle": "2021-12-17T05:44:22.522129Z",
     "shell.execute_reply": "2021-12-17T05:44:22.521334Z",
     "shell.execute_reply.started": "2021-12-17T05:44:21.810053Z"
    }
   },
   "outputs": [],
   "source": [
    "data = pd.read_csv(\"spotify_tracks.csv\")"
   ]
  },
  {
   "cell_type": "code",
   "execution_count": null,
   "metadata": {
    "_kg_hide-output": true,
    "execution": {
     "iopub.execute_input": "2021-12-17T05:44:22.523745Z",
     "iopub.status.busy": "2021-12-17T05:44:22.523285Z",
     "iopub.status.idle": "2021-12-17T05:44:22.617801Z",
     "shell.execute_reply": "2021-12-17T05:44:22.616916Z",
     "shell.execute_reply.started": "2021-12-17T05:44:22.523696Z"
    }
   },
   "outputs": [],
   "source": [
    "print(data.info())"
   ]
  },
  {
   "cell_type": "markdown",
   "metadata": {},
   "source": [
    "Vamos a comprobar todos los parametros con la columna **'popularidad'**. Antes de ir a hacer eso vamos a comprobar la Correlación de Características considerando algunas características y para eso, voy a utilizar el paquete **yellowbrick**. Puedes aprender más sobre él en la página [documentation](https://www.scikit-yb.org/en/latest/index.html)."
   ]
  },
  {
   "cell_type": "code",
   "execution_count": null,
   "metadata": {
    "_kg_hide-input": true,
    "execution": {
     "iopub.execute_input": "2021-12-17T05:44:22.650055Z",
     "iopub.status.busy": "2021-12-17T05:44:22.649461Z",
     "iopub.status.idle": "2021-12-17T05:44:22.923236Z",
     "shell.execute_reply": "2021-12-17T05:44:22.922246Z",
     "shell.execute_reply.started": "2021-12-17T05:44:22.650012Z"
    },
    "scrolled": false
   },
   "outputs": [],
   "source": [
    "feature_names = ['acousticness', 'danceability', 'energy', 'instrumentalness',\n",
    "       'liveness', 'loudness', 'speechiness', 'tempo', 'valence','duration','explicit','key','mode']\n",
    "\n",
    "X, y = data[feature_names], data['popularity']\n",
    "\n",
    "# Creamos una lista con los nombres de las caracteristicas\n",
    "features = np.array(feature_names)\n",
    "\n",
    "# Creamos la instancia\n",
    "visualizer = FeatureCorrelation(labels=features)\n",
    "\n",
    "plt.rcParams['figure.figsize']=(20,20)\n",
    "visualizer.fit(X, y)\n",
    "visualizer.show()"
   ]
  },
  {
   "cell_type": "markdown",
   "metadata": {},
   "source": [
    "En estadística, el coeficiente de correlación de Pearson es una medida de dependencia lineal entre dos variables aleatorias cuantitativas. A diferencia de la covarianza, la correlación de Pearson es independiente de la escala de medida de las variables.\n",
    "\n",
    "De manera menos formal, podemos definir el coeficiente de correlación de Pearson como un índice que puede utilizarse para medir el grado de relación de dos variables siempre y cuando ambas sean cuantitativas y continuas. "
   ]
  },
  {
   "cell_type": "markdown",
   "metadata": {},
   "source": [
    "# **Agrupación de canciones con K-Means**"
   ]
  },
  {
   "cell_type": "code",
   "execution_count": null,
   "metadata": {
    "_kg_hide-output": true,
    "execution": {
     "iopub.execute_input": "2021-12-17T05:44:43.191246Z",
     "iopub.status.busy": "2021-12-17T05:44:43.190695Z",
     "iopub.status.idle": "2021-12-17T05:44:55.203359Z",
     "shell.execute_reply": "2021-12-17T05:44:55.202178Z",
     "shell.execute_reply.started": "2021-12-17T05:44:43.191203Z"
    }
   },
   "outputs": [],
   "source": [
    "song_cluster_pipeline = Pipeline([('scaler', StandardScaler()), \n",
    "                                  ('kmeans', KMeans(n_clusters=20, \n",
    "                                   verbose=False))\n",
    "                                 ], verbose=False)\n",
    "\n",
    "number_cols = ['valence', 'acousticness', 'danceability', 'duration', 'energy', 'explicit',\n",
    "'instrumentalness', 'key', 'liveness', 'loudness', 'mode', 'popularity', 'speechiness', 'tempo']\n",
    "\n",
    "#number_cols = ['valence', 'danceability', 'energy', 'explicit',\n",
    "#               'key', 'liveness', 'loudness', 'popularity', 'speechiness', 'tempo']\n",
    "\n",
    "#number_cols = [ 'danceability',  'energy', 'explicit', 'loudness', 'popularity', 'tempo','valence']\n",
    "\n",
    "#number_cols = [ 'danceability',  'energy', 'explicit', 'loudness', 'popularity', 'tempo']\n",
    "\n",
    "X = data[number_cols]\n",
    "number_cols = list(X.columns)\n",
    "song_cluster_pipeline.fit(X)\n",
    "song_cluster_labels = song_cluster_pipeline.predict(X)\n",
    "data['cluster_label'] = song_cluster_labels"
   ]
  },
  {
   "cell_type": "markdown",
   "metadata": {},
   "source": [
    "# **Construcción del Motor de recomendación**\n",
    "\n",
    "* Según el análisis y las visualizaciones, está claro que los géneros similares tienden a tener puntos de datos que se ubican cerca unos de otros, mientras que los tipos de canciones similares también se agrupan.\n",
    "* Esta observación tiene mucho sentido. Los géneros similares sonarán de manera similar y provendrán de períodos de tiempo similares, mientras que lo mismo puede decirse de las canciones dentro de esos géneros. Podemos usar esta idea para construir un sistema de recomendación tomando los puntos de datos de las canciones que un usuario ha escuchado y recomendando canciones correspondientes a puntos de datos cercanos.\n",
    "* [Spotipy](https://spotipy.readthedocs.io/en/2.16.1/) es un cliente de Python para la API web de Spotify que facilita a los desarrolladores la obtención de datos y la consulta de canciones en el catálogo de Spotify. Tienes que instalar usando `pip install spotipy`\n",
    "* Después de instalar Spotipy, deberá crear una aplicación en la [página del desarrollador de Spotify] (https://developer.spotify.com/) y guardar su ID de cliente y clave secreta."
   ]
  },
  {
   "cell_type": "code",
   "execution_count": null,
   "metadata": {},
   "outputs": [],
   "source": [
    "sp = spotipy.Spotify(auth_manager=SpotifyClientCredentials(client_id=\"62cfe79d83ef43c69a7ba63f9f5debda\",\n",
    "                                                           client_secret=\"88e6707695634f04a75301fcc77d7789\"))\n",
    "\n",
    "def find_song(name):\n",
    "    song_data = defaultdict()\n",
    "    results = sp.search(q= 'track: {}'.format(name), limit=1)\n",
    "    if results['tracks']['items'] == []:\n",
    "        return None\n",
    "    results = results['tracks']['items'][0]\n",
    "    track_id = results['id']\n",
    "    audio_features = sp.audio_features(track_id)[0]\n",
    "\n",
    "    song_data['name'] = [name]\n",
    "    song_data['explicit'] = [int(results['explicit'])]\n",
    "    # song_data['duration'] = [results['duration_ms']]\n",
    "    song_data['popularity'] = [results['popularity']]\n",
    "    # song_data['loudness'] = [results['loudness']]\n",
    "    # song_data['danceability'] = [results['danceability']]\n",
    "    # song_data['energy'] = [results['energy']]\n",
    "    # song_data['tempo'] = [results['tempo']]\n",
    "    list_of_dict_values = list(results.values())\n",
    "    results_string = json.dumps(list_of_dict_values)\n",
    "    index_release_date = results_string.find(\"release_date\")\n",
    "    year_index1 = index_release_date + 16\n",
    "    year_index2 = index_release_date + 17\n",
    "    year_index3 = index_release_date + 18\n",
    "    year_index4 = index_release_date + 19\n",
    "    year_string = results_string[year_index1] + results_string[year_index2] + results_string[year_index3] + results_string[year_index4]\n",
    "    print(year_string)\n",
    "    \n",
    "    song_data['year'] = [int(year_string)]\n",
    "    for key, value in audio_features.items():\n",
    "        song_data[key] = value\n",
    "\n",
    "    return pd.DataFrame(song_data)\n"
   ]
  },
  {
   "cell_type": "code",
   "execution_count": null,
   "metadata": {},
   "outputs": [],
   "source": [
    "def get_song_data(song, spotify_data):\n",
    "    \n",
    "  #  try:\n",
    "  #      song_data = spotify_data[(spotify_data['name'] == song['name'])].iloc[0]\n",
    "  #      print(song['name'], ': si esta')\n",
    "  #      return song_data\n",
    "    \n",
    "  #  except IndexError:\n",
    "    print(song['name'], ': no esta')\n",
    "    return find_song(song['name'])\n",
    "        \n",
    "\n",
    "def get_mean_vector(song_list, spotify_data):\n",
    "    \n",
    "    song_vectors = []\n",
    "    \n",
    "    for song in song_list:\n",
    "        song_data = get_song_data(song, spotify_data)\n",
    "        if song_data is None:\n",
    "            print('Warning: {} does not exist in Spotify or in database'.format(song['name']))\n",
    "            continue\n",
    "        song_vector = song_data[number_cols].values\n",
    "        song_vectors.append(song_vector)  \n",
    "    song_matrix = np.array(list(song_vectors))\n",
    "    return np.mean(song_matrix, axis=0)\n",
    "\n",
    "\n",
    "def flatten_dict_list(dict_list):\n",
    "    \n",
    "    flattened_dict = defaultdict()\n",
    "    for key in dict_list[0].keys():\n",
    "        flattened_dict[key] = []\n",
    "    \n",
    "    for dictionary in dict_list:\n",
    "        for key, value in dictionary.items():\n",
    "            flattened_dict[key].append(value)\n",
    "            \n",
    "    return flattened_dict\n",
    "\n",
    "\n",
    "def recommend_songs( song_list, spotify_data, n_songs=5):\n",
    "    metadata_cols = ['id','name','artists']\n",
    "    song_dict = flatten_dict_list(song_list)\n",
    "    song_center = get_mean_vector(song_list, spotify_data)\n",
    "    scaler = song_cluster_pipeline.steps[0][1]\n",
    "    scaled_data = scaler.transform(spotify_data[number_cols])\n",
    "    scaled_song_center = scaler.transform(song_center.reshape(1, -1))\n",
    "    distances = cdist(scaled_song_center, scaled_data, 'cosine')\n",
    "    index = list(np.argsort(distances)[:, :n_songs][0])\n",
    "    rec_songs = spotify_data.iloc[index]\n",
    "    rec_songs = rec_songs[~rec_songs['name'].isin(song_dict['name'])]\n",
    "    return rec_songs[metadata_cols]"
   ]
  },
  {
   "cell_type": "code",
   "execution_count": null,
   "metadata": {},
   "outputs": [],
   "source": [
    "recommend_songs([{'name': 'Lobo Domesticado'}],  data)"
   ]
  },
  {
   "cell_type": "markdown",
   "metadata": {},
   "source": [
    "* Esta última celda te dará una lista de recomendación de canciones\n",
    "\n",
    "* Puedes cambiar la lista de canciones según tu elección."
   ]
  },
  {
   "cell_type": "code",
   "execution_count": null,
   "metadata": {},
   "outputs": [],
   "source": []
  },
  {
   "cell_type": "code",
   "execution_count": null,
   "metadata": {},
   "outputs": [],
   "source": []
  },
  {
   "cell_type": "code",
   "execution_count": null,
   "metadata": {},
   "outputs": [],
   "source": []
  }
 ],
 "metadata": {
  "interpreter": {
   "hash": "218a487a3cb4a64c06e9c311462bc62c8727efd4f857508a0d29a4d3bf9d28d1"
  },
  "kernelspec": {
   "display_name": "Python 3 (ipykernel)",
   "language": "python",
   "name": "python3"
  },
  "language_info": {
   "codemirror_mode": {
    "name": "ipython",
    "version": 3
   },
   "file_extension": ".py",
   "mimetype": "text/x-python",
   "name": "python",
   "nbconvert_exporter": "python",
   "pygments_lexer": "ipython3",
   "version": "3.9.10"
  }
 },
 "nbformat": 4,
 "nbformat_minor": 4
}
